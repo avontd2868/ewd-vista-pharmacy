{
 "cells": [
  {
   "cell_type": "markdown",
   "metadata": {},
   "source": [
    "# Outpatient Orders Prototyping Code"
   ]
  },
  {
   "cell_type": "markdown",
   "metadata": {},
   "source": [
    "Get Ready"
   ]
  },
  {
   "cell_type": "code",
   "execution_count": 1,
   "metadata": {
    "scrolled": false
   },
   "outputs": [
    {
     "data": {
      "text/plain": [
       "{}"
      ]
     },
     "execution_count": 1,
     "metadata": {},
     "output_type": "execute_result"
    }
   ],
   "source": [
    "var DocumentStore = require('../../qewd/node_modules/ewd-qoper8-cache/node_modules/ewd-document-store');\n",
    "var thisInterface = require('../../cache');\n",
    "var runRPC = require('../../ewd-vista/lib/runRPC');\n",
    "var sessions = require('../../qewd/node_modules/ewd-session/');\n",
    "var pharm = require('../../ewd-vista-pharmacy/');\n",
    "require('../../ewd-vista/lib/mFunctions')\n",
    "var instance = {};\n",
    "var session = '';"
   ]
  },
  {
   "cell_type": "markdown",
   "metadata": {},
   "source": [
    "Open Database"
   ]
  },
  {
   "cell_type": "code",
   "execution_count": 2,
   "metadata": {},
   "outputs": [
    {
     "name": "stdout",
     "output_type": "stream",
     "text": [
      "Node.js Adaptor for Cache: Version: 1.1.131 (CM); Cache Version: 2014.1 build 775\n"
     ]
    }
   ],
   "source": [
    "instance.db = new thisInterface.Cache();\n",
    "this.db = instance.db\n",
    "instance.db.open({path: '/usr/cachesys/mgr/', namespace: 'PANORAMA'});\n",
    "instance.documentStore = new DocumentStore(instance.db);\n",
    "console.log(instance.documentStore.db.version());"
   ]
  },
  {
   "cell_type": "markdown",
   "metadata": {},
   "source": [
    "Set-up Session"
   ]
  },
  {
   "cell_type": "code",
   "execution_count": 3,
   "metadata": {},
   "outputs": [
    {
     "name": "stdout",
     "output_type": "stream",
     "text": [
      "Session ID : 50\n",
      "Session token : 8c387f5b-5a0c-42f3-b6ab-796ffea3f3a8\n"
     ]
    }
   ],
   "source": [
    "// Initialize session management\n",
    "sessions.addTo(instance.documentStore);\n",
    "var session = sessions.create('testApp');\n",
    "console.log('Session ID : ' + session.id);\n",
    "console.log('Session token : ' + session.token);"
   ]
  },
  {
   "cell_type": "markdown",
   "metadata": {},
   "source": [
    " Initialize symbol table management in session"
   ]
  },
  {
   "cell_type": "code",
   "execution_count": 4,
   "metadata": {},
   "outputs": [
    {
     "data": {
      "text/plain": [
       "{}"
      ]
     },
     "execution_count": 4,
     "metadata": {},
     "output_type": "execute_result"
    }
   ],
   "source": [
    "instance.db.symbolTable = sessions.symbolTable(instance.db)"
   ]
  },
  {
   "cell_type": "markdown",
   "metadata": {},
   "source": [
    "Sign-on Setup"
   ]
  },
  {
   "cell_type": "code",
   "execution_count": 7,
   "metadata": {},
   "outputs": [
    {
     "data": {
      "text/plain": [
       "{\"type\":\"ARRAY\",\"value\":[\"ibis\",\"ROU\",\"PANORAMA\",\"/usr/cachesys/mgr/undefined\",\"5\",\"0\",\"PANORAMA.VISTACORE.US\",\"0\"]}"
      ]
     },
     "execution_count": 7,
     "metadata": {},
     "output_type": "execute_result"
    }
   ],
   "source": [
    "runRPC.call(instance, {rpcName: 'XUS SIGNON SETUP'}, session);"
   ]
  },
  {
   "cell_type": "markdown",
   "metadata": {},
   "source": [
    "Sign-On (doesn't work)"
   ]
  },
  {
   "cell_type": "code",
   "execution_count": 8,
   "metadata": {},
   "outputs": [
    {
     "name": "stdout",
     "output_type": "stream",
     "text": [
      "{\"rpcName\":\"XUS AV CODE\",\"rpcArgs\":[{\"type\":\"LITERAL\",\"value\":\"MX1234;MX1234!!\"}]}\n"
     ]
    },
    {
     "data": {
      "text/plain": [
       "{\"type\":\"ARRAY\",\"value\":[\"0\",\"0\",\"0\",\"Not a valid ACCESS CODE/VERIFY CODE pair.\",\"0\",\"0\"]}"
      ]
     },
     "execution_count": 8,
     "metadata": {},
     "output_type": "execute_result"
    }
   ],
   "source": [
    "var accessCode = 'MX1234'; //process.argv[3];\n",
    "var verifyCode = 'MX1234!!'; //process.argv[4];\n",
    "\n",
    "var params = { rpcName: 'XUS AV CODE', rpcArgs: [{type: 'LITERAL', value: accessCode + ';' + verifyCode}] };\n",
    "console.log(params);\n",
    "runRPC.call(instance, params, session);"
   ]
  },
  {
   "cell_type": "markdown",
   "metadata": {},
   "source": [
    "Set Division"
   ]
  },
  {
   "cell_type": "code",
   "execution_count": 9,
   "metadata": {
    "collapsed": true
   },
   "outputs": [],
   "source": [
    "let result = true;\n",
    "\n",
    "let divisions = runRPC.call(instance, {rpcName: 'XUS DIVISION GET'}, session).value;\n",
    "divisions.splice(0,1); // Remove array length element\n",
    "divisions.forEach(function(element, index, array) { // Keep only IENs\n",
    "    array[index] = element.split('^')[0];\n",
    "});\n",
    "\n",
    "if (divisions.length > 1) {\n",
    "params = {\n",
    "  rpcName: 'XUS DIVISION SET',\n",
    "  rpcArgs: [{\n",
    "    type: 'LITERAL',\n",
    "    value: '`' + divisions[0]\n",
    "  }]\n",
    "};\n",
    "\n",
    "runRPC.call(instance, params, session)\n",
    "}"
   ]
  },
  {
   "cell_type": "markdown",
   "metadata": {},
   "source": [
    "Get sites associated with current division"
   ]
  },
  {
   "cell_type": "code",
   "execution_count": 18,
   "metadata": {
    "collapsed": true
   },
   "outputs": [],
   "source": [
    "var getSitesAssociatedWithCurrentLoggedInDivision = function() {\n",
    "    var results = [];\n",
    "    var pharmacySite = new instance.documentStore.DocumentNode('PS', [59]);\n",
    "    this.db.function({function: 'SetVar^ewdVistAUtils', arguments: ['DUZ(2)', 500]});\n",
    "    duz2 = this.db.function({function: 'GetVar^ewdVistAUtils', arguments: ['DUZ(2)']}).result;\n",
    "\n",
    "    pharmacySite.forEachChild( {range: {from: 0, to: ' '} }, function(subscript, node) {\n",
    "        if (duz2 === node.$('INI').value)    results.push(subscript);\n",
    "    });\n",
    "    return results;\n",
    "}"
   ]
  },
  {
   "cell_type": "code",
   "execution_count": 19,
   "metadata": {},
   "outputs": [
    {
     "data": {
      "text/plain": [
       "[Array] [\"2\",\"4\"]"
      ]
     },
     "execution_count": 19,
     "metadata": {},
     "output_type": "execute_result"
    }
   ],
   "source": [
    "getSitesAssociatedWithCurrentLoggedInDivision()"
   ]
  },
  {
   "cell_type": "markdown",
   "metadata": {},
   "source": [
    "This is a copy of the code in SUMMCL^PSOORNE1: Outpatient Order Summary"
   ]
  },
  {
   "cell_type": "code",
   "execution_count": 76,
   "metadata": {},
   "outputs": [
    {
     "name": "stdout",
     "output_type": "stream",
     "text": [
      "3 NORTH GU 2\n",
      "ICU/CCU 1\n",
      "GEN MED 10\n",
      "MENTAL HEALTH 5\n",
      "GENERAL MEDICINE 10\n",
      "PRIMARY CARE 8\n",
      "AUDIOLOGY 3\n",
      "7B 3\n",
      "CHILLICOTHE 11\n",
      "EMPLOYEE HEALTH 2\n",
      "7A GEN MED 2\n",
      "CARDIOLOGY 1435\n",
      "45 CLINIC PATTERN 1\n",
      "20 MINUTE 2\n",
      "CECELIA'S CLINIC 1\n",
      "DIABETIC 2\n",
      "MIKES MENTAL CLINIC 1\n",
      "Emergency Department 1\n",
      "GYNECOLOGIST CLINIC 1\n"
     ]
    },
    {
     "data": {
      "text/plain": [
       "{\"6\":{\"ien\":\"6\",\"name\":\"3 NORTH GU\",\"count\":2},\"8\":{\"ien\":\"8\",\"name\":\"ICU/CCU\",\"count\":1},\"9\":{\"ien\":\"9\",\"name\":\"GEN MED\",\"count\":10},\"17\":{\"ien\":\"17\",\"name\":\"MENTAL HEALTH\",\"count\":5},\"23\":{\"ien\":\"23\",\"name\":\"GENERAL MEDICINE\",\"count\":10},\"32\":{\"ien\":\"32\",\"name\":\"PRIMARY CARE\",\"count\":8},\"64\":{\"ien\":\"64\",\"name\":\"AUDIOLOGY\",\"count\":3},\"81\":{\"ien\":\"81\",\"name\":\"7B\",\"count\":3},\"113\":{\"ien\":\"113\",\"name\":\"CHILLICOTHE\",\"count\":11},\"133\":{\"ien\":\"133\",\"name\":\"EMPLOYEE HEALTH\",\"count\":2},\"158\":{\"ien\":\"158\",\"name\":\"7A GEN MED\",\"count\":2},\"195\":{\"ien\":\"195\",\"name\":\"CARDIOLOGY\",\"count\":1435},\"206\":{\"ien\":\"206\",\"name\":\"45 CLINIC PATTERN\",\"count\":1},\"240\":{\"ien\":\"240\",\"name\":\"20 MINUTE\",\"count\":2},\"273\":{\"ien\":\"273\",\"name\":\"CECELIA'S CLINIC\",\"count\":1},\"285\":{\"ien\":\"285\",\"name\":\"DIABETIC\",\"count\":2},\"288\":{\"ien\":\"288\",\"name\":\"MIKES MENTAL CLINIC\",\"count\":1},\"426\":{\"ien\":\"426\",\"name\":\"Emergency Department\",\"count\":1},\"935\":{\"ien\":\"935\",\"name\":\"GYNECOLOGIST CLINIC\",\"count\":1}}"
      ]
     },
     "execution_count": 76,
     "metadata": {},
     "output_type": "execute_result"
    }
   ],
   "source": [
    "    var aclIX = new instance.documentStore.DocumentNode('PS',['52.41','ACL'])\n",
    "\n",
    "    var counts = {};\n",
    "\n",
    "    aclIX.forEachChild( (clinic, node) => \n",
    "        node.forEachChild( (fmdt, node2) =>\n",
    "            node2.forEachChild( (ien, node3) => {\n",
    "                var z = new instance.documentStore.DocumentNode('PS',['52.41',ien,0]).value;\n",
    "                if (!z) return;\n",
    "                if (!['NW','RNW','RF'].includes(z.split('^')[2])) return;  // New, Renew, Refills only. No DCs etc.\n",
    "                if (!z.split('^')[12]) return; // Must have clinic. Redundant check as record won't exist w/o it.\n",
    "                var hospitalLocationIEN = z.split('^')[12];\n",
    "                var institutionIEN = instance.db.function({function: 'GET1^DIQ', arguments: ['44', hospitalLocationIEN, 'DIVISION:INSTITUTION FILE POINTER', 'I']}).result;\n",
    "                var duz2 = this.db.function({function: 'GetVar^ewdVistAUtils', arguments: ['DUZ(2)']}).result;\n",
    "                if (duz2 !== institutionIEN) return;\n",
    "                var hospitalLocationName = instance.db.function({function: 'EXTERNAL^DILFD', arguments: ['52.41','1.1','',hospitalLocationIEN]}).result;\n",
    "                if (counts[hospitalLocationIEN] === undefined) {\n",
    "                    counts[hospitalLocationIEN] = {};\n",
    "                    counts[hospitalLocationIEN].ien = hospitalLocationIEN;\n",
    "                    counts[hospitalLocationIEN].name = hospitalLocationName;\n",
    "                    counts[hospitalLocationIEN].count = 0;\n",
    "                }\n",
    "                counts[hospitalLocationIEN].count++;\n",
    "            })\n",
    "        )\n",
    "    );\n",
    "\n",
    "    Object.keys(counts).forEach(ien => {\n",
    "        console.log(counts[ien].name, counts[ien].count);\n",
    "    })\n",
    "\n",
    "    counts;"
   ]
  },
  {
   "cell_type": "code",
   "execution_count": null,
   "metadata": {
    "collapsed": true
   },
   "outputs": [],
   "source": []
  }
 ],
 "metadata": {
  "kernelspec": {
   "display_name": "NodeJS",
   "language": "javascript",
   "name": "nodejs"
  },
  "language_info": {
   "codemirror_mode": "javascript",
   "file_extension": ".js",
   "mimetype": "text/javascript",
   "name": "nodejs",
   "pygments_lexer": "javascript",
   "version": "0.10"
  }
 },
 "nbformat": 4,
 "nbformat_minor": 2
}
