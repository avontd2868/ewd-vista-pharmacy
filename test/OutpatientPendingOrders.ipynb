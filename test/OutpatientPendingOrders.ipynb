{
 "cells": [
  {
   "cell_type": "markdown",
   "metadata": {},
   "source": [
    "# Outpatient Orders Prototyping Code"
   ]
  },
  {
   "cell_type": "markdown",
   "metadata": {},
   "source": [
    "Get Ready"
   ]
  },
  {
   "cell_type": "code",
   "execution_count": 1,
   "metadata": {
    "scrolled": false
   },
   "outputs": [
    {
     "data": {
      "text/plain": [
       "{}"
      ]
     },
     "execution_count": 1,
     "metadata": {},
     "output_type": "execute_result"
    }
   ],
   "source": [
    "var DocumentStore = require('../../qewd/node_modules/ewd-qoper8-cache/node_modules/ewd-document-store');\n",
    "var thisInterface = require('../../cache');\n",
    "var runRPC = require('../../ewd-vista/lib/runRPC');\n",
    "var sessions = require('../../qewd/node_modules/ewd-session/');\n",
    "var pharm = require('../../ewd-vista-pharmacy/');\n",
    "require('../../ewd-vista/lib/mFunctions')\n",
    "var instance = {};\n",
    "var session = '';"
   ]
  },
  {
   "cell_type": "markdown",
   "metadata": {},
   "source": [
    "Open Database"
   ]
  },
  {
   "cell_type": "code",
   "execution_count": 2,
   "metadata": {},
   "outputs": [
    {
     "name": "stdout",
     "output_type": "stream",
     "text": [
      "Node.js Adaptor for Cache: Version: 1.1.131 (CM); Cache Version: 2014.1 build 775\n"
     ]
    }
   ],
   "source": [
    "instance.db = new thisInterface.Cache();\n",
    "this.db = instance.db\n",
    "instance.db.open({path: '/usr/cachesys/mgr/', namespace: 'PANORAMA'});\n",
    "instance.documentStore = new DocumentStore(instance.db);\n",
    "console.log(instance.documentStore.db.version());"
   ]
  },
  {
   "cell_type": "markdown",
   "metadata": {},
   "source": [
    "Set-up Session"
   ]
  },
  {
   "cell_type": "code",
   "execution_count": 3,
   "metadata": {},
   "outputs": [
    {
     "name": "stdout",
     "output_type": "stream",
     "text": [
      "Session ID : 52\n",
      "Session token : d9472829-16ba-40fd-ad84-6492234b1e25\n"
     ]
    }
   ],
   "source": [
    "// Initialize session management\n",
    "sessions.addTo(instance.documentStore);\n",
    "var session = sessions.create('testApp');\n",
    "console.log('Session ID : ' + session.id);\n",
    "console.log('Session token : ' + session.token);"
   ]
  },
  {
   "cell_type": "markdown",
   "metadata": {},
   "source": [
    " Initialize symbol table management in session"
   ]
  },
  {
   "cell_type": "code",
   "execution_count": 4,
   "metadata": {},
   "outputs": [
    {
     "data": {
      "text/plain": [
       "{}"
      ]
     },
     "execution_count": 4,
     "metadata": {},
     "output_type": "execute_result"
    }
   ],
   "source": [
    "instance.db.symbolTable = sessions.symbolTable(instance.db)"
   ]
  },
  {
   "cell_type": "markdown",
   "metadata": {},
   "source": [
    "Sign-on Setup"
   ]
  },
  {
   "cell_type": "code",
   "execution_count": 5,
   "metadata": {},
   "outputs": [
    {
     "data": {
      "text/plain": [
       "{\"type\":\"ARRAY\",\"value\":[\"ibis\",\"ROU\",\"PANORAMA\",\"/usr/cachesys/mgr/undefined\",\"5\",\"0\",\"PANORAMA.VISTACORE.US\",\"0\"]}"
      ]
     },
     "execution_count": 5,
     "metadata": {},
     "output_type": "execute_result"
    }
   ],
   "source": [
    "runRPC.call(instance, {rpcName: 'XUS SIGNON SETUP'}, session);"
   ]
  },
  {
   "cell_type": "markdown",
   "metadata": {},
   "source": [
    "Sign-On (doesn't work)"
   ]
  },
  {
   "cell_type": "code",
   "execution_count": 6,
   "metadata": {},
   "outputs": [
    {
     "name": "stdout",
     "output_type": "stream",
     "text": [
      "{\"rpcName\":\"XUS AV CODE\",\"rpcArgs\":[{\"type\":\"LITERAL\",\"value\":\"MX1234;MX1234!!\"}]}\n"
     ]
    },
    {
     "data": {
      "text/plain": [
       "{\"type\":\"ARRAY\",\"value\":[\"0\",\"0\",\"0\",\"Not a valid ACCESS CODE/VERIFY CODE pair.\",\"0\",\"0\"]}"
      ]
     },
     "execution_count": 6,
     "metadata": {},
     "output_type": "execute_result"
    }
   ],
   "source": [
    "var accessCode = 'MX1234'; //process.argv[3];\n",
    "var verifyCode = 'MX1234!!'; //process.argv[4];\n",
    "\n",
    "var params = { rpcName: 'XUS AV CODE', rpcArgs: [{type: 'LITERAL', value: accessCode + ';' + verifyCode}] };\n",
    "console.log(params);\n",
    "runRPC.call(instance, params, session);"
   ]
  },
  {
   "cell_type": "markdown",
   "metadata": {},
   "source": [
    "Set Division"
   ]
  },
  {
   "cell_type": "code",
   "execution_count": 7,
   "metadata": {
    "collapsed": true
   },
   "outputs": [],
   "source": [
    "let result = true;\n",
    "\n",
    "let divisions = runRPC.call(instance, {rpcName: 'XUS DIVISION GET'}, session).value;\n",
    "divisions.splice(0,1); // Remove array length element\n",
    "divisions.forEach(function(element, index, array) { // Keep only IENs\n",
    "    array[index] = element.split('^')[0];\n",
    "});\n",
    "\n",
    "if (divisions.length > 1) {\n",
    "params = {\n",
    "  rpcName: 'XUS DIVISION SET',\n",
    "  rpcArgs: [{\n",
    "    type: 'LITERAL',\n",
    "    value: '`' + divisions[0]\n",
    "  }]\n",
    "};\n",
    "\n",
    "runRPC.call(instance, params, session)\n",
    "}"
   ]
  },
  {
   "cell_type": "markdown",
   "metadata": {},
   "source": [
    "Get sites associated with current division"
   ]
  },
  {
   "cell_type": "code",
   "execution_count": 8,
   "metadata": {
    "collapsed": true
   },
   "outputs": [],
   "source": [
    "var getSitesAssociatedWithCurrentLoggedInDivision = function() {\n",
    "    var results = [];\n",
    "    var pharmacySite = new instance.documentStore.DocumentNode('PS', [59]);\n",
    "    this.db.function({function: 'SetVar^ewdVistAUtils', arguments: ['DUZ(2)', 500]});\n",
    "    duz2 = this.db.function({function: 'GetVar^ewdVistAUtils', arguments: ['DUZ(2)']}).result;\n",
    "\n",
    "    pharmacySite.forEachChild( {range: {from: 0, to: ' '} }, function(subscript, node) {\n",
    "        if (duz2 === node.$('INI').value)    results.push(subscript);\n",
    "    });\n",
    "    return results;\n",
    "}"
   ]
  },
  {
   "cell_type": "code",
   "execution_count": 9,
   "metadata": {},
   "outputs": [
    {
     "data": {
      "text/plain": [
       "[Array] [\"2\",\"4\"]"
      ]
     },
     "execution_count": 9,
     "metadata": {},
     "output_type": "execute_result"
    }
   ],
   "source": [
    "getSitesAssociatedWithCurrentLoggedInDivision()"
   ]
  },
  {
   "cell_type": "markdown",
   "metadata": {},
   "source": [
    "This is a copy of the code in SUMMCL^PSOORNE1: Outpatient Order Summary"
   ]
  },
  {
   "cell_type": "code",
   "execution_count": 10,
   "metadata": {},
   "outputs": [
    {
     "name": "stdout",
     "output_type": "stream",
     "text": [
      "3 NORTH GU 2\n",
      "ICU/CCU 1\n",
      "GEN MED 10\n",
      "MENTAL HEALTH 5\n",
      "GENERAL MEDICINE 10\n",
      "PRIMARY CARE 8\n",
      "7B 3\n",
      "CHILLICOTHE 11\n",
      "EMPLOYEE HEALTH 2\n",
      "7A GEN MED 2\n",
      "CARDIOLOGY 1435\n",
      "45 CLINIC PATTERN 1\n",
      "20 MINUTE 2\n",
      "CECELIA'S CLINIC 1\n",
      "DIABETIC 2\n",
      "MIKES MENTAL CLINIC 1\n",
      "Emergency Department 1\n",
      "GYNECOLOGIST CLINIC 1\n"
     ]
    },
    {
     "data": {
      "text/plain": [
       "{\"6\":{\"ien\":\"6\",\"name\":\"3 NORTH GU\",\"count\":2},\"8\":{\"ien\":\"8\",\"name\":\"ICU/CCU\",\"count\":1},\"9\":{\"ien\":\"9\",\"name\":\"GEN MED\",\"count\":10},\"17\":{\"ien\":\"17\",\"name\":\"MENTAL HEALTH\",\"count\":5},\"23\":{\"ien\":\"23\",\"name\":\"GENERAL MEDICINE\",\"count\":10},\"32\":{\"ien\":\"32\",\"name\":\"PRIMARY CARE\",\"count\":8},\"81\":{\"ien\":\"81\",\"name\":\"7B\",\"count\":3},\"113\":{\"ien\":\"113\",\"name\":\"CHILLICOTHE\",\"count\":11},\"133\":{\"ien\":\"133\",\"name\":\"EMPLOYEE HEALTH\",\"count\":2},\"158\":{\"ien\":\"158\",\"name\":\"7A GEN MED\",\"count\":2},\"195\":{\"ien\":\"195\",\"name\":\"CARDIOLOGY\",\"count\":1435},\"206\":{\"ien\":\"206\",\"name\":\"45 CLINIC PATTERN\",\"count\":1},\"240\":{\"ien\":\"240\",\"name\":\"20 MINUTE\",\"count\":2},\"273\":{\"ien\":\"273\",\"name\":\"CECELIA'S CLINIC\",\"count\":1},\"285\":{\"ien\":\"285\",\"name\":\"DIABETIC\",\"count\":2},\"288\":{\"ien\":\"288\",\"name\":\"MIKES MENTAL CLINIC\",\"count\":1},\"426\":{\"ien\":\"426\",\"name\":\"Emergency Department\",\"count\":1},\"935\":{\"ien\":\"935\",\"name\":\"GYNECOLOGIST CLINIC\",\"count\":1}}"
      ]
     },
     "execution_count": 10,
     "metadata": {},
     "output_type": "execute_result"
    }
   ],
   "source": [
    "    var aclIX = new instance.documentStore.DocumentNode('PS',['52.41','ACL'])\n",
    "\n",
    "    var counts = {};\n",
    "\n",
    "    aclIX.forEachChild( (clinic, node) => \n",
    "        node.forEachChild( (fmdt, node2) =>\n",
    "            node2.forEachChild( (ien, node3) => {\n",
    "                var z = new instance.documentStore.DocumentNode('PS',['52.41',ien,0]).value;\n",
    "                if (!z) return;\n",
    "                if (!['NW','RNW','RF'].includes(z.split('^')[2])) return;  // New, Renew, Refills only. No DCs etc.\n",
    "                if (!z.split('^')[12]) return; // Must have clinic. Redundant check as record won't exist w/o it.\n",
    "                var hospitalLocationIEN = z.split('^')[12];\n",
    "                var institutionIEN = instance.db.function({function: 'GET1^DIQ', arguments: ['44', hospitalLocationIEN, 'DIVISION:INSTITUTION FILE POINTER', 'I']}).result;\n",
    "                var duz2 = this.db.function({function: 'GetVar^ewdVistAUtils', arguments: ['DUZ(2)']}).result;\n",
    "                if (duz2 !== institutionIEN) return;\n",
    "                var hospitalLocationName = instance.db.function({function: 'EXTERNAL^DILFD', arguments: ['52.41','1.1','',hospitalLocationIEN]}).result;\n",
    "                if (counts[hospitalLocationIEN] === undefined) {\n",
    "                    counts[hospitalLocationIEN] = {};\n",
    "                    counts[hospitalLocationIEN].ien = hospitalLocationIEN;\n",
    "                    counts[hospitalLocationIEN].name = hospitalLocationName;\n",
    "                    counts[hospitalLocationIEN].count = 0;\n",
    "                }\n",
    "                counts[hospitalLocationIEN].count++;\n",
    "            })\n",
    "        )\n",
    "    );\n",
    "\n",
    "    Object.keys(counts).forEach(ien => {\n",
    "        console.log(counts[ien].name, counts[ien].count);\n",
    "    })\n",
    "\n",
    "    counts;"
   ]
  },
  {
   "cell_type": "code",
   "execution_count": 45,
   "metadata": {},
   "outputs": [
    {
     "data": {
      "text/plain": [
       "{\"header\":[\"Name (PID)\",\"DOB\",\"Priority/EMERGENCY\",\"Priority/STAT\",\"Routing/WINDOW\",\"Routing/MAIL\",\"Schedule II\",\"Schedule III-V\",\"TOTAL\"],\"data\":[[\"ZZZRETFIVEFIFTYONE,PATIENT\",\"04/07/1935\",0,2,1,0,0,3,\"ZZZRETFOURFIFTYFOUR,PATIENT\",\"04/07/1935\",0,3,8,0,0,11,\"ZZZRETFIVETHREE,PATIENT\",\"04/07/1935\",0,1,0,0,0,1,\"ZZZRETFONINETYFIVE,PATIENT\",\"04/07/1935\",0,1,0,0,0,1,\"ZZZRETIREDONE,PATIENT\",\"04/07/1935\",0,3,0,0,0,4,\"ZZZRETIREDONENINETEEN,PATIENT\",\"04/07/1935\",0,2,0,0,0,2,\"ZZZRETSIXFIFTYNINE,PATIENT\",\"04/07/1935\",0,1,0,0,0,1,\"ZZZRETFIVEEIGHTYNINE,PATIENT\",\"04/07/1935\",0,1,0,0,0,1,\"ONE,PATIENT\",\"04/07/1935\",0,5,0,0,0,5,\"ZZZRETIREDSEVENTYFOUR,PATIENT\",\"04/07/1935\",0,1,0,1,0,1,\"ZZZRETIREDEIGHTYTWO,PATIENT\",\"04/07/1935\",0,1,0,0,0,1,\"ZZZRETFOURELEVEN,PATIENT\",\"04/07/1935\",0,1,0,0,0,1,\"ZZZRETFOURFOURTEEN,PATIENT\",\"04/07/1935\",0,1,0,0,0,1,\"ZZZRETIREDSEVENTYONE,PATIENT\",\"04/07/1935\",0,2,0,0,1,2,\"ZZZRETIREDFOUR,PATIENT\",\"04/07/1935\",0,1,0,0,0,1,\"ZZZRETONETWENTYEIGHT,PATIENT\",\"04/07/1935\",0,1,0,0,0,1,\"ZZZRETIREDFORTYONE,PATIENT\",\"04/07/1935\",0,1,0,0,0,1,\"ZZZRETIREDEIGHTYFOUR,PATIENT\",\"04/07/1935\",0,2,0,0,1,2,\"TWOHUNDREDELEVEN,PATIENT\",\"04/07/1935\",0,1,0,0,0,1,\"ONEHUNDREDEIGHTYNINE,PATIENT\",\"11/23/1985\",0,1,0,0,0,1,\"FIVE,OUTPATIENT\",\"03/09/1945\",0,8,0,0,0,8,\"TEN,INPATIENT\",\"03/09/1945\",0,1,0,0,0,2,\"NINETY,INPATIENT\",\"03/09/1945\",0,1,0,0,0,1,\"TRASH,ELSIE\",\"02/03/2004\",0,7,0,0,0,7,\"TRASH,TONY\",\"03/04/2005\",0,1,0,0,0,1,\"TRASH,PAT A\",\"01/01/1966\",0,4,0,0,0,4,\"TRASH,SCOTT\",\"01/01/1966\",0,2,0,0,0,2,\"TRASH,ZEBRA\",\"10/10/1967\",0,3,1,0,0,4,\"MEDICATIONSIT,PATIENT\",\"01/01/1962\",0,1430,0,12,57,1430],[\"ZZZRETFIVEFIFTYONE,PATIENT\",\"04/07/1935\",0,2,1,0,0,3,\"ZZZRETFOURFIFTYFOUR,PATIENT\",\"04/07/1935\",0,3,8,0,0,11,\"ZZZRETFIVETHREE,PATIENT\",\"04/07/1935\",0,1,0,0,0,1,\"ZZZRETFONINETYFIVE,PATIENT\",\"04/07/1935\",0,1,0,0,0,1,\"ZZZRETIREDONE,PATIENT\",\"04/07/1935\",0,3,0,0,0,4,\"ZZZRETIREDONENINETEEN,PATIENT\",\"04/07/1935\",0,2,0,0,0,2,\"ZZZRETSIXFIFTYNINE,PATIENT\",\"04/07/1935\",0,1,0,0,0,1,\"ZZZRETFIVEEIGHTYNINE,PATIENT\",\"04/07/1935\",0,1,0,0,0,1,\"ONE,PATIENT\",\"04/07/1935\",0,5,0,0,0,5,\"ZZZRETIREDSEVENTYFOUR,PATIENT\",\"04/07/1935\",0,1,0,1,0,1,\"ZZZRETIREDEIGHTYTWO,PATIENT\",\"04/07/1935\",0,1,0,0,0,1,\"ZZZRETFOURELEVEN,PATIENT\",\"04/07/1935\",0,1,0,0,0,1,\"ZZZRETFOURFOURTEEN,PATIENT\",\"04/07/1935\",0,1,0,0,0,1,\"ZZZRETIREDSEVENTYONE,PATIENT\",\"04/07/1935\",0,2,0,0,1,2,\"ZZZRETIREDFOUR,PATIENT\",\"04/07/1935\",0,1,0,0,0,1,\"ZZZRETONETWENTYEIGHT,PATIENT\",\"04/07/1935\",0,1,0,0,0,1,\"ZZZRETIREDFORTYONE,PATIENT\",\"04/07/1935\",0,1,0,0,0,1,\"ZZZRETIREDEIGHTYFOUR,PATIENT\",\"04/07/1935\",0,2,0,0,1,2,\"TWOHUNDREDELEVEN,PATIENT\",\"04/07/1935\",0,1,0,0,0,1,\"ONEHUNDREDEIGHTYNINE,PATIENT\",\"11/23/1985\",0,1,0,0,0,1,\"FIVE,OUTPATIENT\",\"03/09/1945\",0,8,0,0,0,8,\"TEN,INPATIENT\",\"03/09/1945\",0,1,0,0,0,2,\"NINETY,INPATIENT\",\"03/09/1945\",0,1,0,0,0,1,\"TRASH,ELSIE\",\"02/03/2004\",0,7,0,0,0,7,\"TRASH,TONY\",\"03/04/2005\",0,1,0,0,0,1,\"TRASH,PAT A\",\"01/01/1966\",0,4,0,0,0,4,\"TRASH,SCOTT\",\"01/01/1966\",0,2,0,0,0,2,\"TRASH,ZEBRA\",\"10/10/1967\",0,3,1,0,0,4,\"MEDICATIONSIT,PATIENT\",\"01/01/1962\",0,1430,0,12,57,1430],[\"ZZZRETFIVEFIFTYONE,PATIENT\",\"04/07/1935\",0,2,1,0,0,3,\"ZZZRETFOURFIFTYFOUR,PATIENT\",\"04/07/1935\",0,3,8,0,0,11,\"ZZZRETFIVETHREE,PATIENT\",\"04/07/1935\",0,1,0,0,0,1,\"ZZZRETFONINETYFIVE,PATIENT\",\"04/07/1935\",0,1,0,0,0,1,\"ZZZRETIREDONE,PATIENT\",\"04/07/1935\",0,3,0,0,0,4,\"ZZZRETIREDONENINETEEN,PATIENT\",\"04/07/1935\",0,2,0,0,0,2,\"ZZZRETSIXFIFTYNINE,PATIENT\",\"04/07/1935\",0,1,0,0,0,1,\"ZZZRETFIVEEIGHTYNINE,PATIENT\",\"04/07/1935\",0,1,0,0,0,1,\"ONE,PATIENT\",\"04/07/1935\",0,5,0,0,0,5,\"ZZZRETIREDSEVENTYFOUR,PATIENT\",\"04/07/1935\",0,1,0,1,0,1,\"ZZZRETIREDEIGHTYTWO,PATIENT\",\"04/07/1935\",0,1,0,0,0,1,\"ZZZRETFOURELEVEN,PATIENT\",\"04/07/1935\",0,1,0,0,0,1,\"ZZZRETFOURFOURTEEN,PATIENT\",\"04/07/1935\",0,1,0,0,0,1,\"ZZZRETIREDSEVENTYONE,PATIENT\",\"04/07/1935\",0,2,0,0,1,2,\"ZZZRETIREDFOUR,PATIENT\",\"04/07/1935\",0,1,0,0,0,1,\"ZZZRETONETWENTYEIGHT,PATIENT\",\"04/07/1935\",0,1,0,0,0,1,\"ZZZRETIREDFORTYONE,PATIENT\",\"04/07/1935\",0,1,0,0,0,1,\"ZZZRETIREDEIGHTYFOUR,PATIENT\",\"04/07/1935\",0,2,0,0,1,2,\"TWOHUNDREDELEVEN,PATIENT\",\"04/07/1935\",0,1,0,0,0,1,\"ONEHUNDREDEIGHTYNINE,PATIENT\",\"11/23/1985\",0,1,0,0,0,1,\"FIVE,OUTPATIENT\",\"03/09/1945\",0,8,0,0,0,8,\"TEN,INPATIENT\",\"03/09/1945\",0,1,0,0,0,2,\"NINETY,INPATIENT\",\"03/09/1945\",0,1,0,0,0,1,\"TRASH,ELSIE\",\"02/03/2004\",0,7,0,0,0,7,\"TRASH,TONY\",\"03/04/2005\",0,1,0,0,0,1,\"TRASH,PAT A\",\"01/01/1966\",0,4,0,0,0,4,\"TRASH,SCOTT\",\"01/01/1966\",0,2,0,0,0,2,\"TRASH,ZEBRA\",\"10/10/1967\",0,3,1,0,0,4,\"MEDICATIONSIT,PATIENT\",\"01/01/1962\",0,1430,0,12,57,1430],[\"ZZZRETFIVEFIFTYONE,PATIENT\",\"04/07/1935\",0,2,1,0,0,3,\"ZZZRETFOURFIFTYFOUR,PATIENT\",\"04/07/1935\",0,3,8,0,0,11,\"ZZZRETFIVETHREE,PATIENT\",\"04/07/1935\",0,1,0,0,0,1,\"ZZZRETFONINETYFIVE,PATIENT\",\"04/07/1935\",0,1,0,0,0,1,\"ZZZRETIREDONE,PATIENT\",\"04/07/1935\",0,3,0,0,0,4,\"ZZZRETIREDONENINETEEN,PATIENT\",\"04/07/1935\",0,2,0,0,0,2,\"ZZZRETSIXFIFTYNINE,PATIENT\",\"04/07/1935\",0,1,0,0,0,1,\"ZZZRETFIVEEIGHTYNINE,PATIENT\",\"04/07/1935\",0,1,0,0,0,1,\"ONE,PATIENT\",\"04/07/1935\",0,5,0,0,0,5,\"ZZZRETIREDSEVENTYFOUR,PATIENT\",\"04/07/1935\",0,1,0,1,0,1,\"ZZZRETIREDEIGHTYTWO,PATIENT\",\"04/07/1935\",0,1,0,0,0,1,\"ZZZRETFOURELEVEN,PATIENT\",\"04/07/1935\",0,1,0,0,0,1,\"ZZZRETFOURFOURTEEN,PATIENT\",\"04/07/1935\",0,1,0,0,0,1,\"ZZZRETIREDSEVENTYONE,PATIENT\",\"04/07/1935\",0,2,0,0,1,2,\"ZZZRETIREDFOUR,PATIENT\",\"04/07/1935\",0,1,0,0,0,1,\"ZZZRETONETWENTYEIGHT,PATIENT\",\"04/07/1935\",0,1,0,0,0,1,\"ZZZRETIREDFORTYONE,PATIENT\",\"04/07/1935\",0,1,0,0,0,1,\"ZZZRETIREDEIGHTYFOUR,PATIENT\",\"04/07/1935\",0,2,0,0,1,2,\"TWOHUNDREDELEVEN,PATIENT\",\"04/07/1935\",0,1,0,0,0,1,\"ONEHUNDREDEIGHTYNINE,PATIENT\",\"11/23/1985\",0,1,0,0,0,1,\"FIVE,OUTPATIENT\",\"03/09/1945\",0,8,0,0,0,8,\"TEN,INPATIENT\",\"03/09/1945\",0,1,0,0,0,2,\"NINETY,INPATIENT\",\"03/09/1945\",0,1,0,0,0,1,\"TRASH,ELSIE\",\"02/03/2004\",0,7,0,0,0,7,\"TRASH,TONY\",\"03/04/2005\",0,1,0,0,0,1,\"TRASH,PAT A\",\"01/01/1966\",0,4,0,0,0,4,\"TRASH,SCOTT\",\"01/01/1966\",0,2,0,0,0,2,\"TRASH,ZEBRA\",\"10/10/1967\",0,3,1,0,0,4,\"MEDICATIONSIT,PATIENT\",\"01/01/1962\",0,1430,0,12,57,1430],[\"ZZZRETFIVEFIFTYONE,PATIENT\",\"04/07/1935\",0,2,1,0,0,3,\"ZZZRETFOURFIFTYFOUR,PATIENT\",\"04/07/1935\",0,3,8,0,0,11,\"ZZZRETFIVETHREE,PATIENT\",\"04/07/1935\",0,1,0,0,0,1,\"ZZZRETFONINETYFIVE,PATIENT\",\"04/07/1935\",0,1,0,0,0,1,\"ZZZRETIREDONE,PATIENT\",\"04/07/1935\",0,3,0,0,0,4,\"ZZZRETIREDONENINETEEN,PATIENT\",\"04/07/1935\",0,2,0,0,0,2,\"ZZZRETSIXFIFTYNINE,PATIENT\",\"04/07/1935\",0,1,0,0,0,1,\"ZZZRETFIVEEIGHTYNINE,PATIENT\",\"04/07/1935\",0,1,0,0,0,1,\"ONE,PATIENT\",\"04/07/1935\",0,5,0,0,0,5,\"ZZZRETIREDSEVENTYFOUR,PATIENT\",\"04/07/1935\",0,1,0,1,0,1,\"ZZZRETIREDEIGHTYTWO,PATIENT\",\"04/07/1935\",0,1,0,0,0,1,\"ZZZRETFOURELEVEN,PATIENT\",\"04/07/1935\",0,1,0,0,0,1,\"ZZZRETFOURFOURTEEN,PATIENT\",\"04/07/1935\",0,1,0,0,0,1,\"ZZZRETIREDSEVENTYONE,PATIENT\",\"04/07/1935\",0,2,0,0,1,2,\"ZZZRETIREDFOUR,PATIENT\",\"04/07/1935\",0,1,0,0,0,1,\"ZZZRETONETWENTYEIGHT,PATIENT\",\"04/07/1935\",0,1,0,0,0,1,\"ZZZRETIREDFORTYONE,PATIENT\",\"04/07/1935\",0,1,0,0,0,1,\"ZZZRETIREDEIGHTYFOUR,PATIENT\",\"04/07/1935\",0,2,0,0,1,2,\"TWOHUNDREDELEVEN,PATIENT\",\"04/07/1935\",0,1,0,0,0,1,\"ONEHUNDREDEIGHTYNINE,PATIENT\",\"11/23/1985\",0,1,0,0,0,1,\"FIVE,OUTPATIENT\",\"03/09/1945\",0,8,0,0,0,8,\"TEN,INPATIENT\",\"03/09/1945\",0,1,0,0,0,2,\"NINETY,INPATIENT\",\"03/09/1945\",0,1,0,0,0,1,\"TRASH,ELSIE\",\"02/03/2004\",0,7,0,0,0,7,\"TRASH,TONY\",\"03/04/2005\",0,1,0,0,0,1,\"TRASH,PAT A\",\"01/01/1966\",0,4,0,0,0,4,\"TRASH,SCOTT\",\"01/01/1966\",0,2,0,0,0,2,\"TRASH,ZEBRA\",\"10/10/1967\",0,3,1,0,0,4,\"MEDICATIONSIT,PATIENT\",\"01/01/1962\",0,1430,0,12,57,1430],[\"ZZZRETFIVEFIFTYONE,PATIENT\",\"04/07/1935\",0,2,1,0,0,3,\"ZZZRETFOURFIFTYFOUR,PATIENT\",\"04/07/1935\",0,3,8,0,0,11,\"ZZZRETFIVETHREE,PATIENT\",\"04/07/1935\",0,1,0,0,0,1,\"ZZZRETFONINETYFIVE,PATIENT\",\"04/07/1935\",0,1,0,0,0,1,\"ZZZRETIREDONE,PATIENT\",\"04/07/1935\",0,3,0,0,0,4,\"ZZZRETIREDONENINETEEN,PATIENT\",\"04/07/1935\",0,2,0,0,0,2,\"ZZZRETSIXFIFTYNINE,PATIENT\",\"04/07/1935\",0,1,0,0,0,1,\"ZZZRETFIVEEIGHTYNINE,PATIENT\",\"04/07/1935\",0,1,0,0,0,1,\"ONE,PATIENT\",\"04/07/1935\",0,5,0,0,0,5,\"ZZZRETIREDSEVENTYFOUR,PATIENT\",\"04/07/1935\",0,1,0,1,0,1,\"ZZZRETIREDEIGHTYTWO,PATIENT\",\"04/07/1935\",0,1,0,0,0,1,\"ZZZRETFOURELEVEN,PATIENT\",\"04/07/1935\",0,1,0,0,0,1,\"ZZZRETFOURFOURTEEN,PATIENT\",\"04/07/1935\",0,1,0,0,0,1,\"ZZZRETIREDSEVENTYONE,PATIENT\",\"04/07/1935\",0,2,0,0,1,2,\"ZZZRETIREDFOUR,PATIENT\",\"04/07/1935\",0,1,0,0,0,1,\"ZZZRETONETWENTYEIGHT,PATIENT\",\"04/07/1935\",0,1,0,0,0,1,\"ZZZRETIREDFORTYONE,PATIENT\",\"04/07/1935\",0,1,0,0,0,1,\"ZZZRETIREDEIGHTYFOUR,PATIENT\",\"04/07/1935\",0,2,0,0,1,2,\"TWOHUNDREDELEVEN,PATIENT\",\"04/07/1935\",0,1,0,0,0,1,\"ONEHUNDREDEIGHTYNINE,PATIENT\",\"11/23/1985\",0,1,0,0,0,1,\"FIVE,OUTPATIENT\",\"03/09/1945\",0,8,0,0,0,8,\"TEN,INPATIENT\",\"03/09/1945\",0,1,0,0,0,2,\"NINETY,INPATIENT\",\"03/09/1945\",0,1,0,0,0,1,\"TRASH,ELSIE\",\"02/03/2004\",0,7,0,0,0,7,\"TRASH,TONY\",\"03/04/2005\",0,1,0,0,0,1,\"TRASH,PAT A\",\"01/01/1966\",0,4,0,0,0,4,\"TRASH,SCOTT\",\"01/01/1966\",0,2,0,0,0,2,\"TRASH,ZEBRA\",\"10/10/1967\",0,3,1,0,0,4,\"MEDICATIONSIT,PATIENT\",\"01/01/1962\",0,1430,0,12,57,1430],[\"ZZZRETFIVEFIFTYONE,PATIENT\",\"04/07/1935\",0,2,1,0,0,3,\"ZZZRETFOURFIFTYFOUR,PATIENT\",\"04/07/1935\",0,3,8,0,0,11,\"ZZZRETFIVETHREE,PATIENT\",\"04/07/1935\",0,1,0,0,0,1,\"ZZZRETFONINETYFIVE,PATIENT\",\"04/07/1935\",0,1,0,0,0,1,\"ZZZRETIREDONE,PATIENT\",\"04/07/1935\",0,3,0,0,0,4,\"ZZZRETIREDONENINETEEN,PATIENT\",\"04/07/1935\",0,2,0,0,0,2,\"ZZZRETSIXFIFTYNINE,PATIENT\",\"04/07/1935\",0,1,0,0,0,1,\"ZZZRETFIVEEIGHTYNINE,PATIENT\",\"04/07/1935\",0,1,0,0,0,1,\"ONE,PATIENT\",\"04/07/1935\",0,5,0,0,0,5,\"ZZZRETIREDSEVENTYFOUR,PATIENT\",\"04/07/1935\",0,1,0,1,0,1,\"ZZZRETIREDEIGHTYTWO,PATIENT\",\"04/07/1935\",0,1,0,0,0,1,\"ZZZRETFOURELEVEN,PATIENT\",\"04/07/1935\",0,1,0,0,0,1,\"ZZZRETFOURFOURTEEN,PATIENT\",\"04/07/1935\",0,1,0,0,0,1,\"ZZZRETIREDSEVENTYONE,PATIENT\",\"04/07/1935\",0,2,0,0,1,2,\"ZZZRETIREDFOUR,PATIENT\",\"04/07/1935\",0,1,0,0,0,1,\"ZZZRETONETWENTYEIGHT,PATIENT\",\"04/07/1935\",0,1,0,0,0,1,\"ZZZRETIREDFORTYONE,PATIENT\",\"04/07/1935\",0,1,0,0,0,1,\"ZZZRETIREDEIGHTYFOUR,PATIENT\",\"04/07/1935\",0,2,0,0,1,2,\"TWOHUNDREDELEVEN,PATIENT\",\"04/07/1935\",0,1,0,0,0,1,\"ONEHUNDREDEIGHTYNINE,PATIENT\",\"11/23/1985\",0,1,0,0,0,1,\"FIVE,OUTPATIENT\",\"03/09/1945\",0,8,0,0,0,8,\"TEN,INPATIENT\",\"03/09/1945\",0,1,0,0,0,2,\"NINETY,INPATIENT\",\"03/09/1945\",0,1,0,0,0,1,\"TRASH,ELSIE\",\"02/03/2004\",0,7,0,0,0,7,\"TRASH,TONY\",\"03/04/2005\",0,1,0,0,0,1,\"TRASH,PAT A\",\"01/01/1966\",0,4,0,0,0,4,\"TRASH,SCOTT\",\"01/01/1966\",0,2,0,0,0,2,\"TRASH,ZEBRA\",\"10/10/1967\",0,3,1,0,0,4,\"MEDICATIONSIT,PATIENT\",\"01/01/1962\",0,1430,0,12,57,1430],[\"ZZZRETFIVEFIFTYONE,PATIENT\",\"04/07/1935\",0,2,1,0,0,3,\"ZZZRETFOURFIFTYFOUR,PATIENT\",\"04/07/1935\",0,3,8,0,0,11,\"ZZZRETFIVETHREE,PATIENT\",\"04/07/1935\",0,1,0,0,0,1,\"ZZZRETFONINETYFIVE,PATIENT\",\"04/07/1935\",0,1,0,0,0,1,\"ZZZRETIREDONE,PATIENT\",\"04/07/1935\",0,3,0,0,0,4,\"ZZZRETIREDONENINETEEN,PATIENT\",\"04/07/1935\",0,2,0,0,0,2,\"ZZZRETSIXFIFTYNINE,PATIENT\",\"04/07/1935\",0,1,0,0,0,1,\"ZZZRETFIVEEIGHTYNINE,PATIENT\",\"04/07/1935\",0,1,0,0,0,1,\"ONE,PATIENT\",\"04/07/1935\",0,5,0,0,0,5,\"ZZZRETIREDSEVENTYFOUR,PATIENT\",\"04/07/1935\",0,1,0,1,0,1,\"ZZZRETIREDEIGHTYTWO,PATIENT\",\"04/07/1935\",0,1,0,0,0,1,\"ZZZRETFOURELEVEN,PATIENT\",\"04/07/1935\",0,1,0,0,0,1,\"ZZZRETFOURFOURTEEN,PATIENT\",\"04/07/1935\",0,1,0,0,0,1,\"ZZZRETIREDSEVENTYONE,PATIENT\",\"04/07/1935\",0,2,0,0,1,2,\"ZZZRETIREDFOUR,PATIENT\",\"04/07/1935\",0,1,0,0,0,1,\"ZZZRETONETWENTYEIGHT,PATIENT\",\"04/07/1935\",0,1,0,0,0,1,\"ZZZRETIREDFORTYONE,PATIENT\",\"04/07/1935\",0,1,0,0,0,1,\"ZZZRETIREDEIGHTYFOUR,PATIENT\",\"04/07/1935\",0,2,0,0,1,2,\"TWOHUNDREDELEVEN,PATIENT\",\"04/07/1935\",0,1,0,0,0,1,\"ONEHUNDREDEIGHTYNINE,PATIENT\",\"11/23/1985\",0,1,0,0,0,1,\"FIVE,OUTPATIENT\",\"03/09/1945\",0,8,0,0,0,8,\"TEN,INPATIENT\",\"03/09/1945\",0,1,0,0,0,2,\"NINETY,INPATIENT\",\"03/09/1945\",0,1,0,0,0,1,\"TRASH,ELSIE\",\"02/03/2004\",0,7,0,0,0,7,\"TRASH,TONY\",\"03/04/2005\",0,1,0,0,0,1,\"TRASH,PAT A\",\"01/01/1966\",0,4,0,0,0,4,\"TRASH,SCOTT\",\"01/01/1966\",0,2,0,0,0,2,\"TRASH,ZEBRA\",\"10/10/1967\",0,3,1,0,0,4,\"MEDICATIONSIT,PATIENT\",\"01/01/1962\",0,1430,0,12,57,1430],[\"ZZZRETFIVEFIFTYONE,PATIENT\",\"04/07/1935\",0,2,1,0,0,3,\"ZZZRETFOURFIFTYFOUR,PATIENT\",\"04/07/1935\",0,3,8,0,0,11,\"ZZZRETFIVETHREE,PATIENT\",\"04/07/1935\",0,1,0,0,0,1,\"ZZZRETFONINETYFIVE,PATIENT\",\"04/07/1935\",0,1,0,0,0,1,\"ZZZRETIREDONE,PATIENT\",\"04/07/1935\",0,3,0,0,0,4,\"ZZZRETIREDONENINETEEN,PATIENT\",\"04/07/1935\",0,2,0,0,0,2,\"ZZZRETSIXFIFTYNINE,PATIENT\",\"04/07/1935\",0,1,0,0,0,1,\"ZZZRETFIVEEIGHTYNINE,PATIENT\",\"04/07/1935\",0,1,0,0,0,1,\"ONE,PATIENT\",\"04/07/1935\",0,5,0,0,0,5,\"ZZZRETIREDSEVENTYFOUR,PATIENT\",\"04/07/1935\",0,1,0,1,0,1,\"ZZZRETIREDEIGHTYTWO,PATIENT\",\"04/07/1935\",0,1,0,0,0,1,\"ZZZRETFOURELEVEN,PATIENT\",\"04/07/1935\",0,1,0,0,0,1,\"ZZZRETFOURFOURTEEN,PATIENT\",\"04/07/1935\",0,1,0,0,0,1,\"ZZZRETIREDSEVENTYONE,PATIENT\",\"04/07/1935\",0,2,0,0,1,2,\"ZZZRETIREDFOUR,PATIENT\",\"04/07/1935\",0,1,0,0,0,1,\"ZZZRETONETWENTYEIGHT,PATIENT\",\"04/07/1935\",0,1,0,0,0,1,\"ZZZRETIREDFORTYONE,PATIENT\",\"04/07/1935\",0,1,0,0,0,1,\"ZZZRETIREDEIGHTYFOUR,PATIENT\",\"04/07/1935\",0,2,0,0,1,2,\"TWOHUNDREDELEVEN,PATIENT\",\"04/07/1935\",0,1,0,0,0,1,\"ONEHUNDREDEIGHTYNINE,PATIENT\",\"11/23/1985\",0,1,0,0,0,1,\"FIVE,OUTPATIENT\",\"03/09/1945\",0,8,0,0,0,8,\"TEN,INPATIENT\",\"03/09/1945\",0,1,0,0,0,2,\"NINETY,INPATIENT\",\"03/09/1945\",0,1,0,0,0,1,\"TRASH,ELSIE\",\"02/03/2004\",0,7,0,0,0,7,\"TRASH,TONY\",\"03/04/2005\",0,1,0,0,0,1,\"TRASH,PAT A\",\"01/01/1966\",0,4,0,0,0,4,\"TRASH,SCOTT\",\"01/01/1966\",0,2,0,0,0,2,\"TRASH,ZEBRA\",\"10/10/1967\",0,3,1,0,0,4,\"MEDICATIONSIT,PATIENT\",\"01/01/1962\",0,1430,0,12,57,1430],[\"ZZZRETFIVEFIFTYONE,PATIENT\",\"04/07/1935\",0,2,1,0,0,3,\"ZZZRETFOURFIFTYFOUR,PATIENT\",\"04/07/1935\",0,3,8,0,0,11,\"ZZZRETFIVETHREE,PATIENT\",\"04/07/1935\",0,1,0,0,0,1,\"ZZZRETFONINETYFIVE,PATIENT\",\"04/07/1935\",0,1,0,0,0,1,\"ZZZRETIREDONE,PATIENT\",\"04/07/1935\",0,3,0,0,0,4,\"ZZZRETIREDONENINETEEN,PATIENT\",\"04/07/1935\",0,2,0,0,0,2,\"ZZZRETSIXFIFTYNINE,PATIENT\",\"04/07/1935\",0,1,0,0,0,1,\"ZZZRETFIVEEIGHTYNINE,PATIENT\",\"04/07/1935\",0,1,0,0,0,1,\"ONE,PATIENT\",\"04/07/1935\",0,5,0,0,0,5,\"ZZZRETIREDSEVENTYFOUR,PATIENT\",\"04/07/1935\",0,1,0,1,0,1,\"ZZZRETIREDEIGHTYTWO,PATIENT\",\"04/07/1935\",0,1,0,0,0,1,\"ZZZRETFOURELEVEN,PATIENT\",\"04/07/1935\",0,1,0,0,0,1,\"ZZZRETFOURFOURTEEN,PATIENT\",\"04/07/1935\",0,1,0,0,0,1,\"ZZZRETIREDSEVENTYONE,PATIENT\",\"04/07/1935\",0,2,0,0,1,2,\"ZZZRETIREDFOUR,PATIENT\",\"04/07/1935\",0,1,0,0,0,1,\"ZZZRETONETWENTYEIGHT,PATIENT\",\"04/07/1935\",0,1,0,0,0,1,\"ZZZRETIREDFORTYONE,PATIENT\",\"04/07/1935\",0,1,0,0,0,1,\"ZZZRETIREDEIGHTYFOUR,PATIENT\",\"04/07/1935\",0,2,0,0,1,2,\"TWOHUNDREDELEVEN,PATIENT\",\"04/07/1935\",0,1,0,0,0,1,\"ONEHUNDREDEIGHTYNINE,PATIENT\",\"11/23/1985\",0,1,0,0,0,1,\"FIVE,OUTPATIENT\",\"03/09/1945\",0,8,0,0,0,8,\"TEN,INPATIENT\",\"03/09/1945\",0,1,0,0,0,2,\"NINETY,INPATIENT\",\"03/09/1945\",0,1,0,0,0,1,\"TRASH,ELSIE\",\"02/03/2004\",0,7,0,0,0,7,\"TRASH,TONY\",\"03/04/2005\",0,1,0,0,0,1,\"TRASH,PAT A\",\"01/01/1966\",0,4,0,0,0,4,\"TRASH,SCOTT\",\"01/01/1966\",0,2,0,0,0,2,\"TRASH,ZEBRA\",\"10/10/1967\",0,3,1,0,0,4,\"MEDICATIONSIT,PATIENT\",\"01/01/1962\",0,1430,0,12,57,1430],[\"ZZZRETFIVEFIFTYONE,PATIENT\",\"04/07/1935\",0,2,1,0,0,3,\"ZZZRETFOURFIFTYFOUR,PATIENT\",\"04/07/1935\",0,3,8,0,0,11,\"ZZZRETFIVETHREE,PATIENT\",\"04/07/1935\",0,1,0,0,0,1,\"ZZZRETFONINETYFIVE,PATIENT\",\"04/07/1935\",0,1,0,0,0,1,\"ZZZRETIREDONE,PATIENT\",\"04/07/1935\",0,3,0,0,0,4,\"ZZZRETIREDONENINETEEN,PATIENT\",\"04/07/1935\",0,2,0,0,0,2,\"ZZZRETSIXFIFTYNINE,PATIENT\",\"04/07/1935\",0,1,0,0,0,1,\"ZZZRETFIVEEIGHTYNINE,PATIENT\",\"04/07/1935\",0,1,0,0,0,1,\"ONE,PATIENT\",\"04/07/1935\",0,5,0,0,0,5,\"ZZZRETIREDSEVENTYFOUR,PATIENT\",\"04/07/1935\",0,1,0,1,0,1,\"ZZZRETIREDEIGHTYTWO,PATIENT\",\"04/07/1935\",0,1,0,0,0,1,\"ZZZRETFOURELEVEN,PATIENT\",\"04/07/1935\",0,1,0,0,0,1,\"ZZZRETFOURFOURTEEN,PATIENT\",\"04/07/1935\",0,1,0,0,0,1,\"ZZZRETIREDSEVENTYONE,PATIENT\",\"04/07/1935\",0,2,0,0,1,2,\"ZZZRETIREDFOUR,PATIENT\",\"04/07/1935\",0,1,0,0,0,1,\"ZZZRETONETWENTYEIGHT,PATIENT\",\"04/07/1935\",0,1,0,0,0,1,\"ZZZRETIREDFORTYONE,PATIENT\",\"04/07/1935\",0,1,0,0,0,1,\"ZZZRETIREDEIGHTYFOUR,PATIENT\",\"04/07/1935\",0,2,0,0,1,2,\"TWOHUNDREDELEVEN,PATIENT\",\"04/07/1935\",0,1,0,0,0,1,\"ONEHUNDREDEIGHTYNINE,PATIENT\",\"11/23/1985\",0,1,0,0,0,1,\"FIVE,OUTPATIENT\",\"03/09/1945\",0,8,0,0,0,8,\"TEN,INPATIENT\",\"03/09/1945\",0,1,0,0,0,2,\"NINETY,INPATIENT\",\"03/09/1945\",0,1,0,0,0,1,\"TRASH,ELSIE\",\"02/03/2004\",0,7,0,0,0,7,\"TRASH,TONY\",\"03/04/2005\",0,1,0,0,0,1,\"TRASH,PAT A\",\"01/01/1966\",0,4,0,0,0,4,\"TRASH,SCOTT\",\"01/01/1966\",0,2,0,0,0,2,\"TRASH,ZEBRA\",\"10/10/1967\",0,3,1,0,0,4,\"MEDICATIONSIT,PATIENT\",\"01/01/1962\",0,1430,0,12,57,1430],[\"ZZZRETFIVEFIFTYONE,PATIENT\",\"04/07/1935\",0,2,1,0,0,3,\"ZZZRETFOURFIFTYFOUR,PATIENT\",\"04/07/1935\",0,3,8,0,0,11,\"ZZZRETFIVETHREE,PATIENT\",\"04/07/1935\",0,1,0,0,0,1,\"ZZZRETFONINETYFIVE,PATIENT\",\"04/07/1935\",0,1,0,0,0,1,\"ZZZRETIREDONE,PATIENT\",\"04/07/1935\",0,3,0,0,0,4,\"ZZZRETIREDONENINETEEN,PATIENT\",\"04/07/1935\",0,2,0,0,0,2,\"ZZZRETSIXFIFTYNINE,PATIENT\",\"04/07/1935\",0,1,0,0,0,1,\"ZZZRETFIVEEIGHTYNINE,PATIENT\",\"04/07/1935\",0,1,0,0,0,1,\"ONE,PATIENT\",\"04/07/1935\",0,5,0,0,0,5,\"ZZZRETIREDSEVENTYFOUR,PATIENT\",\"04/07/1935\",0,1,0,1,0,1,\"ZZZRETIREDEIGHTYTWO,PATIENT\",\"04/07/1935\",0,1,0,0,0,1,\"ZZZRETFOURELEVEN,PATIENT\",\"04/07/1935\",0,1,0,0,0,1,\"ZZZRETFOURFOURTEEN,PATIENT\",\"04/07/1935\",0,1,0,0,0,1,\"ZZZRETIREDSEVENTYONE,PATIENT\",\"04/07/1935\",0,2,0,0,1,2,\"ZZZRETIREDFOUR,PATIENT\",\"04/07/1935\",0,1,0,0,0,1,\"ZZZRETONETWENTYEIGHT,PATIENT\",\"04/07/1935\",0,1,0,0,0,1,\"ZZZRETIREDFORTYONE,PATIENT\",\"04/07/1935\",0,1,0,0,0,1,\"ZZZRETIREDEIGHTYFOUR,PATIENT\",\"04/07/1935\",0,2,0,0,1,2,\"TWOHUNDREDELEVEN,PATIENT\",\"04/07/1935\",0,1,0,0,0,1,\"ONEHUNDREDEIGHTYNINE,PATIENT\",\"11/23/1985\",0,1,0,0,0,1,\"FIVE,OUTPATIENT\",\"03/09/1945\",0,8,0,0,0,8,\"TEN,INPATIENT\",\"03/09/1945\",0,1,0,0,0,2,\"NINETY,INPATIENT\",\"03/09/1945\",0,1,0,0,0,1,\"TRASH,ELSIE\",\"02/03/2004\",0,7,0,0,0,7,\"TRASH,TONY\",\"03/04/2005\",0,1,0,0,0,1,\"TRASH,PAT A\",\"01/01/1966\",0,4,0,0,0,4,\"TRASH,SCOTT\",\"01/01/1966\",0,2,0,0,0,2,\"TRASH,ZEBRA\",\"10/10/1967\",0,3,1,0,0,4,\"MEDICATIONSIT,PATIENT\",\"01/01/1962\",0,1430,0,12,57,1430],[\"ZZZRETFIVEFIFTYONE,PATIENT\",\"04/07/1935\",0,2,1,0,0,3,\"ZZZRETFOURFIFTYFOUR,PATIENT\",\"04/07/1935\",0,3,8,0,0,11,\"ZZZRETFIVETHREE,PATIENT\",\"04/07/1935\",0,1,0,0,0,1,\"ZZZRETFONINETYFIVE,PATIENT\",\"04/07/1935\",0,1,0,0,0,1,\"ZZZRETIREDONE,PATIENT\",\"04/07/1935\",0,3,0,0,0,4,\"ZZZRETIREDONENINETEEN,PATIENT\",\"04/07/1935\",0,2,0,0,0,2,\"ZZZRETSIXFIFTYNINE,PATIENT\",\"04/07/1935\",0,1,0,0,0,1,\"ZZZRETFIVEEIGHTYNINE,PATIENT\",\"04/07/1935\",0,1,0,0,0,1,\"ONE,PATIENT\",\"04/07/1935\",0,5,0,0,0,5,\"ZZZRETIREDSEVENTYFOUR,PATIENT\",\"04/07/1935\",0,1,0,1,0,1,\"ZZZRETIREDEIGHTYTWO,PATIENT\",\"04/07/1935\",0,1,0,0,0,1,\"ZZZRETFOURELEVEN,PATIENT\",\"04/07/1935\",0,1,0,0,0,1,\"ZZZRETFOURFOURTEEN,PATIENT\",\"04/07/1935\",0,1,0,0,0,1,\"ZZZRETIREDSEVENTYONE,PATIENT\",\"04/07/1935\",0,2,0,0,1,2,\"ZZZRETIREDFOUR,PATIENT\",\"04/07/1935\",0,1,0,0,0,1,\"ZZZRETONETWENTYEIGHT,PATIENT\",\"04/07/1935\",0,1,0,0,0,1,\"ZZZRETIREDFORTYONE,PATIENT\",\"04/07/1935\",0,1,0,0,0,1,\"ZZZRETIREDEIGHTYFOUR,PATIENT\",\"04/07/1935\",0,2,0,0,1,2,\"TWOHUNDREDELEVEN,PATIENT\",\"04/07/1935\",0,1,0,0,0,1,\"ONEHUNDREDEIGHTYNINE,PATIENT\",\"11/23/1985\",0,1,0,0,0,1,\"FIVE,OUTPATIENT\",\"03/09/1945\",0,8,0,0,0,8,\"TEN,INPATIENT\",\"03/09/1945\",0,1,0,0,0,2,\"NINETY,INPATIENT\",\"03/09/1945\",0,1,0,0,0,1,\"TRASH,ELSIE\",\"02/03/2004\",0,7,0,0,0,7,\"TRASH,TONY\",\"03/04/2005\",0,1,0,0,0,1,\"TRASH,PAT A\",\"01/01/1966\",0,4,0,0,0,4,\"TRASH,SCOTT\",\"01/01/1966\",0,2,0,0,0,2,\"TRASH,ZEBRA\",\"10/10/1967\",0,3,1,0,0,4,\"MEDICATIONSIT,PATIENT\",\"01/01/1962\",0,1430,0,12,57,1430],[\"ZZZRETFIVEFIFTYONE,PATIENT\",\"04/07/1935\",0,2,1,0,0,3,\"ZZZRETFOURFIFTYFOUR,PATIENT\",\"04/07/1935\",0,3,8,0,0,11,\"ZZZRETFIVETHREE,PATIENT\",\"04/07/1935\",0,1,0,0,0,1,\"ZZZRETFONINETYFIVE,PATIENT\",\"04/07/1935\",0,1,0,0,0,1,\"ZZZRETIREDONE,PATIENT\",\"04/07/1935\",0,3,0,0,0,4,\"ZZZRETIREDONENINETEEN,PATIENT\",\"04/07/1935\",0,2,0,0,0,2,\"ZZZRETSIXFIFTYNINE,PATIENT\",\"04/07/1935\",0,1,0,0,0,1,\"ZZZRETFIVEEIGHTYNINE,PATIENT\",\"04/07/1935\",0,1,0,0,0,1,\"ONE,PATIENT\",\"04/07/1935\",0,5,0,0,0,5,\"ZZZRETIREDSEVENTYFOUR,PATIENT\",\"04/07/1935\",0,1,0,1,0,1,\"ZZZRETIREDEIGHTYTWO,PATIENT\",\"04/07/1935\",0,1,0,0,0,1,\"ZZZRETFOURELEVEN,PATIENT\",\"04/07/1935\",0,1,0,0,0,1,\"ZZZRETFOURFOURTEEN,PATIENT\",\"04/07/1935\",0,1,0,0,0,1,\"ZZZRETIREDSEVENTYONE,PATIENT\",\"04/07/1935\",0,2,0,0,1,2,\"ZZZRETIREDFOUR,PATIENT\",\"04/07/1935\",0,1,0,0,0,1,\"ZZZRETONETWENTYEIGHT,PATIENT\",\"04/07/1935\",0,1,0,0,0,1,\"ZZZRETIREDFORTYONE,PATIENT\",\"04/07/1935\",0,1,0,0,0,1,\"ZZZRETIREDEIGHTYFOUR,PATIENT\",\"04/07/1935\",0,2,0,0,1,2,\"TWOHUNDREDELEVEN,PATIENT\",\"04/07/1935\",0,1,0,0,0,1,\"ONEHUNDREDEIGHTYNINE,PATIENT\",\"11/23/1985\",0,1,0,0,0,1,\"FIVE,OUTPATIENT\",\"03/09/1945\",0,8,0,0,0,8,\"TEN,INPATIENT\",\"03/09/1945\",0,1,0,0,0,2,\"NINETY,INPATIENT\",\"03/09/1945\",0,1,0,0,0,1,\"TRASH,ELSIE\",\"02/03/2004\",0,7,0,0,0,7,\"TRASH,TONY\",\"03/04/2005\",0,1,0,0,0,1,\"TRASH,PAT A\",\"01/01/1966\",0,4,0,0,0,4,\"TRASH,SCOTT\",\"01/01/1966\",0,2,0,0,0,2,\"TRASH,ZEBRA\",\"10/10/1967\",0,3,1,0,0,4,\"MEDICATIONSIT,PATIENT\",\"01/01/1962\",0,1430,0,12,57,1430],[\"ZZZRETFIVEFIFTYONE,PATIENT\",\"04/07/1935\",0,2,1,0,0,3,\"ZZZRETFOURFIFTYFOUR,PATIENT\",\"04/07/1935\",0,3,8,0,0,11,\"ZZZRETFIVETHREE,PATIENT\",\"04/07/1935\",0,1,0,0,0,1,\"ZZZRETFONINETYFIVE,PATIENT\",\"04/07/1935\",0,1,0,0,0,1,\"ZZZRETIREDONE,PATIENT\",\"04/07/1935\",0,3,0,0,0,4,\"ZZZRETIREDONENINETEEN,PATIENT\",\"04/07/1935\",0,2,0,0,0,2,\"ZZZRETSIXFIFTYNINE,PATIENT\",\"04/07/1935\",0,1,0,0,0,1,\"ZZZRETFIVEEIGHTYNINE,PATIENT\",\"04/07/1935\",0,1,0,0,0,1,\"ONE,PATIENT\",\"04/07/1935\",0,5,0,0,0,5,\"ZZZRETIREDSEVENTYFOUR,PATIENT\",\"04/07/1935\",0,1,0,1,0,1,\"ZZZRETIREDEIGHTYTWO,PATIENT\",\"04/07/1935\",0,1,0,0,0,1,\"ZZZRETFOURELEVEN,PATIENT\",\"04/07/1935\",0,1,0,0,0,1,\"ZZZRETFOURFOURTEEN,PATIENT\",\"04/07/1935\",0,1,0,0,0,1,\"ZZZRETIREDSEVENTYONE,PATIENT\",\"04/07/1935\",0,2,0,0,1,2,\"ZZZRETIREDFOUR,PATIENT\",\"04/07/1935\",0,1,0,0,0,1,\"ZZZRETONETWENTYEIGHT,PATIENT\",\"04/07/1935\",0,1,0,0,0,1,\"ZZZRETIREDFORTYONE,PATIENT\",\"04/07/1935\",0,1,0,0,0,1,\"ZZZRETIREDEIGHTYFOUR,PATIENT\",\"04/07/1935\",0,2,0,0,1,2,\"TWOHUNDREDELEVEN,PATIENT\",\"04/07/1935\",0,1,0,0,0,1,\"ONEHUNDREDEIGHTYNINE,PATIENT\",\"11/23/1985\",0,1,0,0,0,1,\"FIVE,OUTPATIENT\",\"03/09/1945\",0,8,0,0,0,8,\"TEN,INPATIENT\",\"03/09/1945\",0,1,0,0,0,2,\"NINETY,INPATIENT\",\"03/09/1945\",0,1,0,0,0,1,\"TRASH,ELSIE\",\"02/03/2004\",0,7,0,0,0,7,\"TRASH,TONY\",\"03/04/2005\",0,1,0,0,0,1,\"TRASH,PAT A\",\"01/01/1966\",0,4,0,0,0,4,\"TRASH,SCOTT\",\"01/01/1966\",0,2,0,0,0,2,\"TRASH,ZEBRA\",\"10/10/1967\",0,3,1,0,0,4,\"MEDICATIONSIT,PATIENT\",\"01/01/1962\",0,1430,0,12,57,1430],[\"ZZZRETFIVEFIFTYONE,PATIENT\",\"04/07/1935\",0,2,1,0,0,3,\"ZZZRETFOURFIFTYFOUR,PATIENT\",\"04/07/1935\",0,3,8,0,0,11,\"ZZZRETFIVETHREE,PATIENT\",\"04/07/1935\",0,1,0,0,0,1,\"ZZZRETFONINETYFIVE,PATIENT\",\"04/07/1935\",0,1,0,0,0,1,\"ZZZRETIREDONE,PATIENT\",\"04/07/1935\",0,3,0,0,0,4,\"ZZZRETIREDONENINETEEN,PATIENT\",\"04/07/1935\",0,2,0,0,0,2,\"ZZZRETSIXFIFTYNINE,PATIENT\",\"04/07/1935\",0,1,0,0,0,1,\"ZZZRETFIVEEIGHTYNINE,PATIENT\",\"04/07/1935\",0,1,0,0,0,1,\"ONE,PATIENT\",\"04/07/1935\",0,5,0,0,0,5,\"ZZZRETIREDSEVENTYFOUR,PATIENT\",\"04/07/1935\",0,1,0,1,0,1,\"ZZZRETIREDEIGHTYTWO,PATIENT\",\"04/07/1935\",0,1,0,0,0,1,\"ZZZRETFOURELEVEN,PATIENT\",\"04/07/1935\",0,1,0,0,0,1,\"ZZZRETFOURFOURTEEN,PATIENT\",\"04/07/1935\",0,1,0,0,0,1,\"ZZZRETIREDSEVENTYONE,PATIENT\",\"04/07/1935\",0,2,0,0,1,2,\"ZZZRETIREDFOUR,PATIENT\",\"04/07/1935\",0,1,0,0,0,1,\"ZZZRETONETWENTYEIGHT,PATIENT\",\"04/07/1935\",0,1,0,0,0,1,\"ZZZRETIREDFORTYONE,PATIENT\",\"04/07/1935\",0,1,0,0,0,1,\"ZZZRETIREDEIGHTYFOUR,PATIENT\",\"04/07/1935\",0,2,0,0,1,2,\"TWOHUNDREDELEVEN,PATIENT\",\"04/07/1935\",0,1,0,0,0,1,\"ONEHUNDREDEIGHTYNINE,PATIENT\",\"11/23/1985\",0,1,0,0,0,1,\"FIVE,OUTPATIENT\",\"03/09/1945\",0,8,0,0,0,8,\"TEN,INPATIENT\",\"03/09/1945\",0,1,0,0,0,2,\"NINETY,INPATIENT\",\"03/09/1945\",0,1,0,0,0,1,\"TRASH,ELSIE\",\"02/03/2004\",0,7,0,0,0,7,\"TRASH,TONY\",\"03/04/2005\",0,1,0,0,0,1,\"TRASH,PAT A\",\"01/01/1966\",0,4,0,0,0,4,\"TRASH,SCOTT\",\"01/01/1966\",0,2,0,0,0,2,\"TRASH,ZEBRA\",\"10/10/1967\",0,3,1,0,0,4,\"MEDICATIONSIT,PATIENT\",\"01/01/1962\",0,1430,0,12,57,1430],[\"ZZZRETFIVEFIFTYONE,PATIENT\",\"04/07/1935\",0,2,1,0,0,3,\"ZZZRETFOURFIFTYFOUR,PATIENT\",\"04/07/1935\",0,3,8,0,0,11,\"ZZZRETFIVETHREE,PATIENT\",\"04/07/1935\",0,1,0,0,0,1,\"ZZZRETFONINETYFIVE,PATIENT\",\"04/07/1935\",0,1,0,0,0,1,\"ZZZRETIREDONE,PATIENT\",\"04/07/1935\",0,3,0,0,0,4,\"ZZZRETIREDONENINETEEN,PATIENT\",\"04/07/1935\",0,2,0,0,0,2,\"ZZZRETSIXFIFTYNINE,PATIENT\",\"04/07/1935\",0,1,0,0,0,1,\"ZZZRETFIVEEIGHTYNINE,PATIENT\",\"04/07/1935\",0,1,0,0,0,1,\"ONE,PATIENT\",\"04/07/1935\",0,5,0,0,0,5,\"ZZZRETIREDSEVENTYFOUR,PATIENT\",\"04/07/1935\",0,1,0,1,0,1,\"ZZZRETIREDEIGHTYTWO,PATIENT\",\"04/07/1935\",0,1,0,0,0,1,\"ZZZRETFOURELEVEN,PATIENT\",\"04/07/1935\",0,1,0,0,0,1,\"ZZZRETFOURFOURTEEN,PATIENT\",\"04/07/1935\",0,1,0,0,0,1,\"ZZZRETIREDSEVENTYONE,PATIENT\",\"04/07/1935\",0,2,0,0,1,2,\"ZZZRETIREDFOUR,PATIENT\",\"04/07/1935\",0,1,0,0,0,1,\"ZZZRETONETWENTYEIGHT,PATIENT\",\"04/07/1935\",0,1,0,0,0,1,\"ZZZRETIREDFORTYONE,PATIENT\",\"04/07/1935\",0,1,0,0,0,1,\"ZZZRETIREDEIGHTYFOUR,PATIENT\",\"04/07/1935\",0,2,0,0,1,2,\"TWOHUNDREDELEVEN,PATIENT\",\"04/07/1935\",0,1,0,0,0,1,\"ONEHUNDREDEIGHTYNINE,PATIENT\",\"11/23/1985\",0,1,0,0,0,1,\"FIVE,OUTPATIENT\",\"03/09/1945\",0,8,0,0,0,8,\"TEN,INPATIENT\",\"03/09/1945\",0,1,0,0,0,2,\"NINETY,INPATIENT\",\"03/09/1945\",0,1,0,0,0,1,\"TRASH,ELSIE\",\"02/03/2004\",0,7,0,0,0,7,\"TRASH,TONY\",\"03/04/2005\",0,1,0,0,0,1,\"TRASH,PAT A\",\"01/01/1966\",0,4,0,0,0,4,\"TRASH,SCOTT\",\"01/01/1966\",0,2,0,0,0,2,\"TRASH,ZEBRA\",\"10/10/1967\",0,3,1,0,0,4,\"MEDICATIONSIT,PATIENT\",\"01/01/1962\",0,1430,0,12,57,1430],[\"ZZZRETFIVEFIFTYONE,PATIENT\",\"04/07/1935\",0,2,1,0,0,3,\"ZZZRETFOURFIFTYFOUR,PATIENT\",\"04/07/1935\",0,3,8,0,0,11,\"ZZZRETFIVETHREE,PATIENT\",\"04/07/1935\",0,1,0,0,0,1,\"ZZZRETFONINETYFIVE,PATIENT\",\"04/07/1935\",0,1,0,0,0,1,\"ZZZRETIREDONE,PATIENT\",\"04/07/1935\",0,3,0,0,0,4,\"ZZZRETIREDONENINETEEN,PATIENT\",\"04/07/1935\",0,2,0,0,0,2,\"ZZZRETSIXFIFTYNINE,PATIENT\",\"04/07/1935\",0,1,0,0,0,1,\"ZZZRETFIVEEIGHTYNINE,PATIENT\",\"04/07/1935\",0,1,0,0,0,1,\"ONE,PATIENT\",\"04/07/1935\",0,5,0,0,0,5,\"ZZZRETIREDSEVENTYFOUR,PATIENT\",\"04/07/1935\",0,1,0,1,0,1,\"ZZZRETIREDEIGHTYTWO,PATIENT\",\"04/07/1935\",0,1,0,0,0,1,\"ZZZRETFOURELEVEN,PATIENT\",\"04/07/1935\",0,1,0,0,0,1,\"ZZZRETFOURFOURTEEN,PATIENT\",\"04/07/1935\",0,1,0,0,0,1,\"ZZZRETIREDSEVENTYONE,PATIENT\",\"04/07/1935\",0,2,0,0,1,2,\"ZZZRETIREDFOUR,PATIENT\",\"04/07/1935\",0,1,0,0,0,1,\"ZZZRETONETWENTYEIGHT,PATIENT\",\"04/07/1935\",0,1,0,0,0,1,\"ZZZRETIREDFORTYONE,PATIENT\",\"04/07/1935\",0,1,0,0,0,1,\"ZZZRETIREDEIGHTYFOUR,PATIENT\",\"04/07/1935\",0,2,0,0,1,2,\"TWOHUNDREDELEVEN,PATIENT\",\"04/07/1935\",0,1,0,0,0,1,\"ONEHUNDREDEIGHTYNINE,PATIENT\",\"11/23/1985\",0,1,0,0,0,1,\"FIVE,OUTPATIENT\",\"03/09/1945\",0,8,0,0,0,8,\"TEN,INPATIENT\",\"03/09/1945\",0,1,0,0,0,2,\"NINETY,INPATIENT\",\"03/09/1945\",0,1,0,0,0,1,\"TRASH,ELSIE\",\"02/03/2004\",0,7,0,0,0,7,\"TRASH,TONY\",\"03/04/2005\",0,1,0,0,0,1,\"TRASH,PAT A\",\"01/01/1966\",0,4,0,0,0,4,\"TRASH,SCOTT\",\"01/01/1966\",0,2,0,0,0,2,\"TRASH,ZEBRA\",\"10/10/1967\",0,3,1,0,0,4,\"MEDICATIONSIT,PATIENT\",\"01/01/1962\",0,1430,0,12,57,1430],[\"ZZZRETFIVEFIFTYONE,PATIENT\",\"04/07/1935\",0,2,1,0,0,3,\"ZZZRETFOURFIFTYFOUR,PATIENT\",\"04/07/1935\",0,3,8,0,0,11,\"ZZZRETFIVETHREE,PATIENT\",\"04/07/1935\",0,1,0,0,0,1,\"ZZZRETFONINETYFIVE,PATIENT\",\"04/07/1935\",0,1,0,0,0,1,\"ZZZRETIREDONE,PATIENT\",\"04/07/1935\",0,3,0,0,0,4,\"ZZZRETIREDONENINETEEN,PATIENT\",\"04/07/1935\",0,2,0,0,0,2,\"ZZZRETSIXFIFTYNINE,PATIENT\",\"04/07/1935\",0,1,0,0,0,1,\"ZZZRETFIVEEIGHTYNINE,PATIENT\",\"04/07/1935\",0,1,0,0,0,1,\"ONE,PATIENT\",\"04/07/1935\",0,5,0,0,0,5,\"ZZZRETIREDSEVENTYFOUR,PATIENT\",\"04/07/1935\",0,1,0,1,0,1,\"ZZZRETIREDEIGHTYTWO,PATIENT\",\"04/07/1935\",0,1,0,0,0,1,\"ZZZRETFOURELEVEN,PATIENT\",\"04/07/1935\",0,1,0,0,0,1,\"ZZZRETFOURFOURTEEN,PATIENT\",\"04/07/1935\",0,1,0,0,0,1,\"ZZZRETIREDSEVENTYONE,PATIENT\",\"04/07/1935\",0,2,0,0,1,2,\"ZZZRETIREDFOUR,PATIENT\",\"04/07/1935\",0,1,0,0,0,1,\"ZZZRETONETWENTYEIGHT,PATIENT\",\"04/07/1935\",0,1,0,0,0,1,\"ZZZRETIREDFORTYONE,PATIENT\",\"04/07/1935\",0,1,0,0,0,1,\"ZZZRETIREDEIGHTYFOUR,PATIENT\",\"04/07/1935\",0,2,0,0,1,2,\"TWOHUNDREDELEVEN,PATIENT\",\"04/07/1935\",0,1,0,0,0,1,\"ONEHUNDREDEIGHTYNINE,PATIENT\",\"11/23/1985\",0,1,0,0,0,1,\"FIVE,OUTPATIENT\",\"03/09/1945\",0,8,0,0,0,8,\"TEN,INPATIENT\",\"03/09/1945\",0,1,0,0,0,2,\"NINETY,INPATIENT\",\"03/09/1945\",0,1,0,0,0,1,\"TRASH,ELSIE\",\"02/03/2004\",0,7,0,0,0,7,\"TRASH,TONY\",\"03/04/2005\",0,1,0,0,0,1,\"TRASH,PAT A\",\"01/01/1966\",0,4,0,0,0,4,\"TRASH,SCOTT\",\"01/01/1966\",0,2,0,0,0,2,\"TRASH,ZEBRA\",\"10/10/1967\",0,3,1,0,0,4,\"MEDICATIONSIT,PATIENT\",\"01/01/1962\",0,1430,0,12,57,1430],[\"ZZZRETFIVEFIFTYONE,PATIENT\",\"04/07/1935\",0,2,1,0,0,3,\"ZZZRETFOURFIFTYFOUR,PATIENT\",\"04/07/1935\",0,3,8,0,0,11,\"ZZZRETFIVETHREE,PATIENT\",\"04/07/1935\",0,1,0,0,0,1,\"ZZZRETFONINETYFIVE,PATIENT\",\"04/07/1935\",0,1,0,0,0,1,\"ZZZRETIREDONE,PATIENT\",\"04/07/1935\",0,3,0,0,0,4,\"ZZZRETIREDONENINETEEN,PATIENT\",\"04/07/1935\",0,2,0,0,0,2,\"ZZZRETSIXFIFTYNINE,PATIENT\",\"04/07/1935\",0,1,0,0,0,1,\"ZZZRETFIVEEIGHTYNINE,PATIENT\",\"04/07/1935\",0,1,0,0,0,1,\"ONE,PATIENT\",\"04/07/1935\",0,5,0,0,0,5,\"ZZZRETIREDSEVENTYFOUR,PATIENT\",\"04/07/1935\",0,1,0,1,0,1,\"ZZZRETIREDEIGHTYTWO,PATIENT\",\"04/07/1935\",0,1,0,0,0,1,\"ZZZRETFOURELEVEN,PATIENT\",\"04/07/1935\",0,1,0,0,0,1,\"ZZZRETFOURFOURTEEN,PATIENT\",\"04/07/1935\",0,1,0,0,0,1,\"ZZZRETIREDSEVENTYONE,PATIENT\",\"04/07/1935\",0,2,0,0,1,2,\"ZZZRETIREDFOUR,PATIENT\",\"04/07/1935\",0,1,0,0,0,1,\"ZZZRETONETWENTYEIGHT,PATIENT\",\"04/07/1935\",0,1,0,0,0,1,\"ZZZRETIREDFORTYONE,PATIENT\",\"04/07/1935\",0,1,0,0,0,1,\"ZZZRETIREDEIGHTYFOUR,PATIENT\",\"04/07/1935\",0,2,0,0,1,2,\"TWOHUNDREDELEVEN,PATIENT\",\"04/07/1935\",0,1,0,0,0,1,\"ONEHUNDREDEIGHTYNINE,PATIENT\",\"11/23/1985\",0,1,0,0,0,1,\"FIVE,OUTPATIENT\",\"03/09/1945\",0,8,0,0,0,8,\"TEN,INPATIENT\",\"03/09/1945\",0,1,0,0,0,2,\"NINETY,INPATIENT\",\"03/09/1945\",0,1,0,0,0,1,\"TRASH,ELSIE\",\"02/03/2004\",0,7,0,0,0,7,\"TRASH,TONY\",\"03/04/2005\",0,1,0,0,0,1,\"TRASH,PAT A\",\"01/01/1966\",0,4,0,0,0,4,\"TRASH,SCOTT\",\"01/01/1966\",0,2,0,0,0,2,\"TRASH,ZEBRA\",\"10/10/1967\",0,3,1,0,0,4,\"MEDICATIONSIT,PATIENT\",\"01/01/1962\",0,1430,0,12,57,1430],[\"ZZZRETFIVEFIFTYONE,PATIENT\",\"04/07/1935\",0,2,1,0,0,3,\"ZZZRETFOURFIFTYFOUR,PATIENT\",\"04/07/1935\",0,3,8,0,0,11,\"ZZZRETFIVETHREE,PATIENT\",\"04/07/1935\",0,1,0,0,0,1,\"ZZZRETFONINETYFIVE,PATIENT\",\"04/07/1935\",0,1,0,0,0,1,\"ZZZRETIREDONE,PATIENT\",\"04/07/1935\",0,3,0,0,0,4,\"ZZZRETIREDONENINETEEN,PATIENT\",\"04/07/1935\",0,2,0,0,0,2,\"ZZZRETSIXFIFTYNINE,PATIENT\",\"04/07/1935\",0,1,0,0,0,1,\"ZZZRETFIVEEIGHTYNINE,PATIENT\",\"04/07/1935\",0,1,0,0,0,1,\"ONE,PATIENT\",\"04/07/1935\",0,5,0,0,0,5,\"ZZZRETIREDSEVENTYFOUR,PATIENT\",\"04/07/1935\",0,1,0,1,0,1,\"ZZZRETIREDEIGHTYTWO,PATIENT\",\"04/07/1935\",0,1,0,0,0,1,\"ZZZRETFOURELEVEN,PATIENT\",\"04/07/1935\",0,1,0,0,0,1,\"ZZZRETFOURFOURTEEN,PATIENT\",\"04/07/1935\",0,1,0,0,0,1,\"ZZZRETIREDSEVENTYONE,PATIENT\",\"04/07/1935\",0,2,0,0,1,2,\"ZZZRETIREDFOUR,PATIENT\",\"04/07/1935\",0,1,0,0,0,1,\"ZZZRETONETWENTYEIGHT,PATIENT\",\"04/07/1935\",0,1,0,0,0,1,\"ZZZRETIREDFORTYONE,PATIENT\",\"04/07/1935\",0,1,0,0,0,1,\"ZZZRETIREDEIGHTYFOUR,PATIENT\",\"04/07/1935\",0,2,0,0,1,2,\"TWOHUNDREDELEVEN,PATIENT\",\"04/07/1935\",0,1,0,0,0,1,\"ONEHUNDREDEIGHTYNINE,PATIENT\",\"11/23/1985\",0,1,0,0,0,1,\"FIVE,OUTPATIENT\",\"03/09/1945\",0,8,0,0,0,8,\"TEN,INPATIENT\",\"03/09/1945\",0,1,0,0,0,2,\"NINETY,INPATIENT\",\"03/09/1945\",0,1,0,0,0,1,\"TRASH,ELSIE\",\"02/03/2004\",0,7,0,0,0,7,\"TRASH,TONY\",\"03/04/2005\",0,1,0,0,0,1,\"TRASH,PAT A\",\"01/01/1966\",0,4,0,0,0,4,\"TRASH,SCOTT\",\"01/01/1966\",0,2,0,0,0,2,\"TRASH,ZEBRA\",\"10/10/1967\",0,3,1,0,0,4,\"MEDICATIONSIT,PATIENT\",\"01/01/1962\",0,1430,0,12,57,1430],[\"ZZZRETFIVEFIFTYONE,PATIENT\",\"04/07/1935\",0,2,1,0,0,3,\"ZZZRETFOURFIFTYFOUR,PATIENT\",\"04/07/1935\",0,3,8,0,0,11,\"ZZZRETFIVETHREE,PATIENT\",\"04/07/1935\",0,1,0,0,0,1,\"ZZZRETFONINETYFIVE,PATIENT\",\"04/07/1935\",0,1,0,0,0,1,\"ZZZRETIREDONE,PATIENT\",\"04/07/1935\",0,3,0,0,0,4,\"ZZZRETIREDONENINETEEN,PATIENT\",\"04/07/1935\",0,2,0,0,0,2,\"ZZZRETSIXFIFTYNINE,PATIENT\",\"04/07/1935\",0,1,0,0,0,1,\"ZZZRETFIVEEIGHTYNINE,PATIENT\",\"04/07/1935\",0,1,0,0,0,1,\"ONE,PATIENT\",\"04/07/1935\",0,5,0,0,0,5,\"ZZZRETIREDSEVENTYFOUR,PATIENT\",\"04/07/1935\",0,1,0,1,0,1,\"ZZZRETIREDEIGHTYTWO,PATIENT\",\"04/07/1935\",0,1,0,0,0,1,\"ZZZRETFOURELEVEN,PATIENT\",\"04/07/1935\",0,1,0,0,0,1,\"ZZZRETFOURFOURTEEN,PATIENT\",\"04/07/1935\",0,1,0,0,0,1,\"ZZZRETIREDSEVENTYONE,PATIENT\",\"04/07/1935\",0,2,0,0,1,2,\"ZZZRETIREDFOUR,PATIENT\",\"04/07/1935\",0,1,0,0,0,1,\"ZZZRETONETWENTYEIGHT,PATIENT\",\"04/07/1935\",0,1,0,0,0,1,\"ZZZRETIREDFORTYONE,PATIENT\",\"04/07/1935\",0,1,0,0,0,1,\"ZZZRETIREDEIGHTYFOUR,PATIENT\",\"04/07/1935\",0,2,0,0,1,2,\"TWOHUNDREDELEVEN,PATIENT\",\"04/07/1935\",0,1,0,0,0,1,\"ONEHUNDREDEIGHTYNINE,PATIENT\",\"11/23/1985\",0,1,0,0,0,1,\"FIVE,OUTPATIENT\",\"03/09/1945\",0,8,0,0,0,8,\"TEN,INPATIENT\",\"03/09/1945\",0,1,0,0,0,2,\"NINETY,INPATIENT\",\"03/09/1945\",0,1,0,0,0,1,\"TRASH,ELSIE\",\"02/03/2004\",0,7,0,0,0,7,\"TRASH,TONY\",\"03/04/2005\",0,1,0,0,0,1,\"TRASH,PAT A\",\"01/01/1966\",0,4,0,0,0,4,\"TRASH,SCOTT\",\"01/01/1966\",0,2,0,0,0,2,\"TRASH,ZEBRA\",\"10/10/1967\",0,3,1,0,0,4,\"MEDICATIONSIT,PATIENT\",\"01/01/1962\",0,1430,0,12,57,1430],[\"ZZZRETFIVEFIFTYONE,PATIENT\",\"04/07/1935\",0,2,1,0,0,3,\"ZZZRETFOURFIFTYFOUR,PATIENT\",\"04/07/1935\",0,3,8,0,0,11,\"ZZZRETFIVETHREE,PATIENT\",\"04/07/1935\",0,1,0,0,0,1,\"ZZZRETFONINETYFIVE,PATIENT\",\"04/07/1935\",0,1,0,0,0,1,\"ZZZRETIREDONE,PATIENT\",\"04/07/1935\",0,3,0,0,0,4,\"ZZZRETIREDONENINETEEN,PATIENT\",\"04/07/1935\",0,2,0,0,0,2,\"ZZZRETSIXFIFTYNINE,PATIENT\",\"04/07/1935\",0,1,0,0,0,1,\"ZZZRETFIVEEIGHTYNINE,PATIENT\",\"04/07/1935\",0,1,0,0,0,1,\"ONE,PATIENT\",\"04/07/1935\",0,5,0,0,0,5,\"ZZZRETIREDSEVENTYFOUR,PATIENT\",\"04/07/1935\",0,1,0,1,0,1,\"ZZZRETIREDEIGHTYTWO,PATIENT\",\"04/07/1935\",0,1,0,0,0,1,\"ZZZRETFOURELEVEN,PATIENT\",\"04/07/1935\",0,1,0,0,0,1,\"ZZZRETFOURFOURTEEN,PATIENT\",\"04/07/1935\",0,1,0,0,0,1,\"ZZZRETIREDSEVENTYONE,PATIENT\",\"04/07/1935\",0,2,0,0,1,2,\"ZZZRETIREDFOUR,PATIENT\",\"04/07/1935\",0,1,0,0,0,1,\"ZZZRETONETWENTYEIGHT,PATIENT\",\"04/07/1935\",0,1,0,0,0,1,\"ZZZRETIREDFORTYONE,PATIENT\",\"04/07/1935\",0,1,0,0,0,1,\"ZZZRETIREDEIGHTYFOUR,PATIENT\",\"04/07/1935\",0,2,0,0,1,2,\"TWOHUNDREDELEVEN,PATIENT\",\"04/07/1935\",0,1,0,0,0,1,\"ONEHUNDREDEIGHTYNINE,PATIENT\",\"11/23/1985\",0,1,0,0,0,1,\"FIVE,OUTPATIENT\",\"03/09/1945\",0,8,0,0,0,8,\"TEN,INPATIENT\",\"03/09/1945\",0,1,0,0,0,2,\"NINETY,INPATIENT\",\"03/09/1945\",0,1,0,0,0,1,\"TRASH,ELSIE\",\"02/03/2004\",0,7,0,0,0,7,\"TRASH,TONY\",\"03/04/2005\",0,1,0,0,0,1,\"TRASH,PAT A\",\"01/01/1966\",0,4,0,0,0,4,\"TRASH,SCOTT\",\"01/01/1966\",0,2,0,0,0,2,\"TRASH,ZEBRA\",\"10/10/1967\",0,3,1,0,0,4,\"MEDICATIONSIT,PATIENT\",\"01/01/1962\",0,1430,0,12,57,1430],[\"ZZZRETFIVEFIFTYONE,PATIENT\",\"04/07/1935\",0,2,1,0,0,3,\"ZZZRETFOURFIFTYFOUR,PATIENT\",\"04/07/1935\",0,3,8,0,0,11,\"ZZZRETFIVETHREE,PATIENT\",\"04/07/1935\",0,1,0,0,0,1,\"ZZZRETFONINETYFIVE,PATIENT\",\"04/07/1935\",0,1,0,0,0,1,\"ZZZRETIREDONE,PATIENT\",\"04/07/1935\",0,3,0,0,0,4,\"ZZZRETIREDONENINETEEN,PATIENT\",\"04/07/1935\",0,2,0,0,0,2,\"ZZZRETSIXFIFTYNINE,PATIENT\",\"04/07/1935\",0,1,0,0,0,1,\"ZZZRETFIVEEIGHTYNINE,PATIENT\",\"04/07/1935\",0,1,0,0,0,1,\"ONE,PATIENT\",\"04/07/1935\",0,5,0,0,0,5,\"ZZZRETIREDSEVENTYFOUR,PATIENT\",\"04/07/1935\",0,1,0,1,0,1,\"ZZZRETIREDEIGHTYTWO,PATIENT\",\"04/07/1935\",0,1,0,0,0,1,\"ZZZRETFOURELEVEN,PATIENT\",\"04/07/1935\",0,1,0,0,0,1,\"ZZZRETFOURFOURTEEN,PATIENT\",\"04/07/1935\",0,1,0,0,0,1,\"ZZZRETIREDSEVENTYONE,PATIENT\",\"04/07/1935\",0,2,0,0,1,2,\"ZZZRETIREDFOUR,PATIENT\",\"04/07/1935\",0,1,0,0,0,1,\"ZZZRETONETWENTYEIGHT,PATIENT\",\"04/07/1935\",0,1,0,0,0,1,\"ZZZRETIREDFORTYONE,PATIENT\",\"04/07/1935\",0,1,0,0,0,1,\"ZZZRETIREDEIGHTYFOUR,PATIENT\",\"04/07/1935\",0,2,0,0,1,2,\"TWOHUNDREDELEVEN,PATIENT\",\"04/07/1935\",0,1,0,0,0,1,\"ONEHUNDREDEIGHTYNINE,PATIENT\",\"11/23/1985\",0,1,0,0,0,1,\"FIVE,OUTPATIENT\",\"03/09/1945\",0,8,0,0,0,8,\"TEN,INPATIENT\",\"03/09/1945\",0,1,0,0,0,2,\"NINETY,INPATIENT\",\"03/09/1945\",0,1,0,0,0,1,\"TRASH,ELSIE\",\"02/03/2004\",0,7,0,0,0,7,\"TRASH,TONY\",\"03/04/2005\",0,1,0,0,0,1,\"TRASH,PAT A\",\"01/01/1966\",0,4,0,0,0,4,\"TRASH,SCOTT\",\"01/01/1966\",0,2,0,0,0,2,\"TRASH,ZEBRA\",\"10/10/1967\",0,3,1,0,0,4,\"MEDICATIONSIT,PATIENT\",\"01/01/1962\",0,1430,0,12,57,1430],[\"ZZZRETFIVEFIFTYONE,PATIENT\",\"04/07/1935\",0,2,1,0,0,3,\"ZZZRETFOURFIFTYFOUR,PATIENT\",\"04/07/1935\",0,3,8,0,0,11,\"ZZZRETFIVETHREE,PATIENT\",\"04/07/1935\",0,1,0,0,0,1,\"ZZZRETFONINETYFIVE,PATIENT\",\"04/07/1935\",0,1,0,0,0,1,\"ZZZRETIREDONE,PATIENT\",\"04/07/1935\",0,3,0,0,0,4,\"ZZZRETIREDONENINETEEN,PATIENT\",\"04/07/1935\",0,2,0,0,0,2,\"ZZZRETSIXFIFTYNINE,PATIENT\",\"04/07/1935\",0,1,0,0,0,1,\"ZZZRETFIVEEIGHTYNINE,PATIENT\",\"04/07/1935\",0,1,0,0,0,1,\"ONE,PATIENT\",\"04/07/1935\",0,5,0,0,0,5,\"ZZZRETIREDSEVENTYFOUR,PATIENT\",\"04/07/1935\",0,1,0,1,0,1,\"ZZZRETIREDEIGHTYTWO,PATIENT\",\"04/07/1935\",0,1,0,0,0,1,\"ZZZRETFOURELEVEN,PATIENT\",\"04/07/1935\",0,1,0,0,0,1,\"ZZZRETFOURFOURTEEN,PATIENT\",\"04/07/1935\",0,1,0,0,0,1,\"ZZZRETIREDSEVENTYONE,PATIENT\",\"04/07/1935\",0,2,0,0,1,2,\"ZZZRETIREDFOUR,PATIENT\",\"04/07/1935\",0,1,0,0,0,1,\"ZZZRETONETWENTYEIGHT,PATIENT\",\"04/07/1935\",0,1,0,0,0,1,\"ZZZRETIREDFORTYONE,PATIENT\",\"04/07/1935\",0,1,0,0,0,1,\"ZZZRETIREDEIGHTYFOUR,PATIENT\",\"04/07/1935\",0,2,0,0,1,2,\"TWOHUNDREDELEVEN,PATIENT\",\"04/07/1935\",0,1,0,0,0,1,\"ONEHUNDREDEIGHTYNINE,PATIENT\",\"11/23/1985\",0,1,0,0,0,1,\"FIVE,OUTPATIENT\",\"03/09/1945\",0,8,0,0,0,8,\"TEN,INPATIENT\",\"03/09/1945\",0,1,0,0,0,2,\"NINETY,INPATIENT\",\"03/09/1945\",0,1,0,0,0,1,\"TRASH,ELSIE\",\"02/03/2004\",0,7,0,0,0,7,\"TRASH,TONY\",\"03/04/2005\",0,1,0,0,0,1,\"TRASH,PAT A\",\"01/01/1966\",0,4,0,0,0,4,\"TRASH,SCOTT\",\"01/01/1966\",0,2,0,0,0,2,\"TRASH,ZEBRA\",\"10/10/1967\",0,3,1,0,0,4,\"MEDICATIONSIT,PATIENT\",\"01/01/1962\",0,1430,0,12,57,1430],[\"ZZZRETFIVEFIFTYONE,PATIENT\",\"04/07/1935\",0,2,1,0,0,3,\"ZZZRETFOURFIFTYFOUR,PATIENT\",\"04/07/1935\",0,3,8,0,0,11,\"ZZZRETFIVETHREE,PATIENT\",\"04/07/1935\",0,1,0,0,0,1,\"ZZZRETFONINETYFIVE,PATIENT\",\"04/07/1935\",0,1,0,0,0,1,\"ZZZRETIREDONE,PATIENT\",\"04/07/1935\",0,3,0,0,0,4,\"ZZZRETIREDONENINETEEN,PATIENT\",\"04/07/1935\",0,2,0,0,0,2,\"ZZZRETSIXFIFTYNINE,PATIENT\",\"04/07/1935\",0,1,0,0,0,1,\"ZZZRETFIVEEIGHTYNINE,PATIENT\",\"04/07/1935\",0,1,0,0,0,1,\"ONE,PATIENT\",\"04/07/1935\",0,5,0,0,0,5,\"ZZZRETIREDSEVENTYFOUR,PATIENT\",\"04/07/1935\",0,1,0,1,0,1,\"ZZZRETIREDEIGHTYTWO,PATIENT\",\"04/07/1935\",0,1,0,0,0,1,\"ZZZRETFOURELEVEN,PATIENT\",\"04/07/1935\",0,1,0,0,0,1,\"ZZZRETFOURFOURTEEN,PATIENT\",\"04/07/1935\",0,1,0,0,0,1,\"ZZZRETIREDSEVENTYONE,PATIENT\",\"04/07/1935\",0,2,0,0,1,2,\"ZZZRETIREDFOUR,PATIENT\",\"04/07/1935\",0,1,0,0,0,1,\"ZZZRETONETWENTYEIGHT,PATIENT\",\"04/07/1935\",0,1,0,0,0,1,\"ZZZRETIREDFORTYONE,PATIENT\",\"04/07/1935\",0,1,0,0,0,1,\"ZZZRETIREDEIGHTYFOUR,PATIENT\",\"04/07/1935\",0,2,0,0,1,2,\"TWOHUNDREDELEVEN,PATIENT\",\"04/07/1935\",0,1,0,0,0,1,\"ONEHUNDREDEIGHTYNINE,PATIENT\",\"11/23/1985\",0,1,0,0,0,1,\"FIVE,OUTPATIENT\",\"03/09/1945\",0,8,0,0,0,8,\"TEN,INPATIENT\",\"03/09/1945\",0,1,0,0,0,2,\"NINETY,INPATIENT\",\"03/09/1945\",0,1,0,0,0,1,\"TRASH,ELSIE\",\"02/03/2004\",0,7,0,0,0,7,\"TRASH,TONY\",\"03/04/2005\",0,1,0,0,0,1,\"TRASH,PAT A\",\"01/01/1966\",0,4,0,0,0,4,\"TRASH,SCOTT\",\"01/01/1966\",0,2,0,0,0,2,\"TRASH,ZEBRA\",\"10/10/1967\",0,3,1,0,0,4,\"MEDICATIONSIT,PATIENT\",\"01/01/1962\",0,1430,0,12,57,1430],[\"ZZZRETFIVEFIFTYONE,PATIENT\",\"04/07/1935\",0,2,1,0,0,3,\"ZZZRETFOURFIFTYFOUR,PATIENT\",\"04/07/1935\",0,3,8,0,0,11,\"ZZZRETFIVETHREE,PATIENT\",\"04/07/1935\",0,1,0,0,0,1,\"ZZZRETFONINETYFIVE,PATIENT\",\"04/07/1935\",0,1,0,0,0,1,\"ZZZRETIREDONE,PATIENT\",\"04/07/1935\",0,3,0,0,0,4,\"ZZZRETIREDONENINETEEN,PATIENT\",\"04/07/1935\",0,2,0,0,0,2,\"ZZZRETSIXFIFTYNINE,PATIENT\",\"04/07/1935\",0,1,0,0,0,1,\"ZZZRETFIVEEIGHTYNINE,PATIENT\",\"04/07/1935\",0,1,0,0,0,1,\"ONE,PATIENT\",\"04/07/1935\",0,5,0,0,0,5,\"ZZZRETIREDSEVENTYFOUR,PATIENT\",\"04/07/1935\",0,1,0,1,0,1,\"ZZZRETIREDEIGHTYTWO,PATIENT\",\"04/07/1935\",0,1,0,0,0,1,\"ZZZRETFOURELEVEN,PATIENT\",\"04/07/1935\",0,1,0,0,0,1,\"ZZZRETFOURFOURTEEN,PATIENT\",\"04/07/1935\",0,1,0,0,0,1,\"ZZZRETIREDSEVENTYONE,PATIENT\",\"04/07/1935\",0,2,0,0,1,2,\"ZZZRETIREDFOUR,PATIENT\",\"04/07/1935\",0,1,0,0,0,1,\"ZZZRETONETWENTYEIGHT,PATIENT\",\"04/07/1935\",0,1,0,0,0,1,\"ZZZRETIREDFORTYONE,PATIENT\",\"04/07/1935\",0,1,0,0,0,1,\"ZZZRETIREDEIGHTYFOUR,PATIENT\",\"04/07/1935\",0,2,0,0,1,2,\"TWOHUNDREDELEVEN,PATIENT\",\"04/07/1935\",0,1,0,0,0,1,\"ONEHUNDREDEIGHTYNINE,PATIENT\",\"11/23/1985\",0,1,0,0,0,1,\"FIVE,OUTPATIENT\",\"03/09/1945\",0,8,0,0,0,8,\"TEN,INPATIENT\",\"03/09/1945\",0,1,0,0,0,2,\"NINETY,INPATIENT\",\"03/09/1945\",0,1,0,0,0,1,\"TRASH,ELSIE\",\"02/03/2004\",0,7,0,0,0,7,\"TRASH,TONY\",\"03/04/2005\",0,1,0,0,0,1,\"TRASH,PAT A\",\"01/01/1966\",0,4,0,0,0,4,\"TRASH,SCOTT\",\"01/01/1966\",0,2,0,0,0,2,\"TRASH,ZEBRA\",\"10/10/1967\",0,3,1,0,0,4,\"MEDICATIONSIT,PATIENT\",\"01/01/1962\",0,1430,0,12,57,1430],[\"ZZZRETFIVEFIFTYONE,PATIENT\",\"04/07/1935\",0,2,1,0,0,3,\"ZZZRETFOURFIFTYFOUR,PATIENT\",\"04/07/1935\",0,3,8,0,0,11,\"ZZZRETFIVETHREE,PATIENT\",\"04/07/1935\",0,1,0,0,0,1,\"ZZZRETFONINETYFIVE,PATIENT\",\"04/07/1935\",0,1,0,0,0,1,\"ZZZRETIREDONE,PATIENT\",\"04/07/1935\",0,3,0,0,0,4,\"ZZZRETIREDONENINETEEN,PATIENT\",\"04/07/1935\",0,2,0,0,0,2,\"ZZZRETSIXFIFTYNINE,PATIENT\",\"04/07/1935\",0,1,0,0,0,1,\"ZZZRETFIVEEIGHTYNINE,PATIENT\",\"04/07/1935\",0,1,0,0,0,1,\"ONE,PATIENT\",\"04/07/1935\",0,5,0,0,0,5,\"ZZZRETIREDSEVENTYFOUR,PATIENT\",\"04/07/1935\",0,1,0,1,0,1,\"ZZZRETIREDEIGHTYTWO,PATIENT\",\"04/07/1935\",0,1,0,0,0,1,\"ZZZRETFOURELEVEN,PATIENT\",\"04/07/1935\",0,1,0,0,0,1,\"ZZZRETFOURFOURTEEN,PATIENT\",\"04/07/1935\",0,1,0,0,0,1,\"ZZZRETIREDSEVENTYONE,PATIENT\",\"04/07/1935\",0,2,0,0,1,2,\"ZZZRETIREDFOUR,PATIENT\",\"04/07/1935\",0,1,0,0,0,1,\"ZZZRETONETWENTYEIGHT,PATIENT\",\"04/07/1935\",0,1,0,0,0,1,\"ZZZRETIREDFORTYONE,PATIENT\",\"04/07/1935\",0,1,0,0,0,1,\"ZZZRETIREDEIGHTYFOUR,PATIENT\",\"04/07/1935\",0,2,0,0,1,2,\"TWOHUNDREDELEVEN,PATIENT\",\"04/07/1935\",0,1,0,0,0,1,\"ONEHUNDREDEIGHTYNINE,PATIENT\",\"11/23/1985\",0,1,0,0,0,1,\"FIVE,OUTPATIENT\",\"03/09/1945\",0,8,0,0,0,8,\"TEN,INPATIENT\",\"03/09/1945\",0,1,0,0,0,2,\"NINETY,INPATIENT\",\"03/09/1945\",0,1,0,0,0,1,\"TRASH,ELSIE\",\"02/03/2004\",0,7,0,0,0,7,\"TRASH,TONY\",\"03/04/2005\",0,1,0,0,0,1,\"TRASH,PAT A\",\"01/01/1966\",0,4,0,0,0,4,\"TRASH,SCOTT\",\"01/01/1966\",0,2,0,0,0,2,\"TRASH,ZEBRA\",\"10/10/1967\",0,3,1,0,0,4,\"MEDICATIONSIT,PATIENT\",\"01/01/1962\",0,1430,0,12,57,1430],[\"ZZZRETFIVEFIFTYONE,PATIENT\",\"04/07/1935\",0,2,1,0,0,3,\"ZZZRETFOURFIFTYFOUR,PATIENT\",\"04/07/1935\",0,3,8,0,0,11,\"ZZZRETFIVETHREE,PATIENT\",\"04/07/1935\",0,1,0,0,0,1,\"ZZZRETFONINETYFIVE,PATIENT\",\"04/07/1935\",0,1,0,0,0,1,\"ZZZRETIREDONE,PATIENT\",\"04/07/1935\",0,3,0,0,0,4,\"ZZZRETIREDONENINETEEN,PATIENT\",\"04/07/1935\",0,2,0,0,0,2,\"ZZZRETSIXFIFTYNINE,PATIENT\",\"04/07/1935\",0,1,0,0,0,1,\"ZZZRETFIVEEIGHTYNINE,PATIENT\",\"04/07/1935\",0,1,0,0,0,1,\"ONE,PATIENT\",\"04/07/1935\",0,5,0,0,0,5,\"ZZZRETIREDSEVENTYFOUR,PATIENT\",\"04/07/1935\",0,1,0,1,0,1,\"ZZZRETIREDEIGHTYTWO,PATIENT\",\"04/07/1935\",0,1,0,0,0,1,\"ZZZRETFOURELEVEN,PATIENT\",\"04/07/1935\",0,1,0,0,0,1,\"ZZZRETFOURFOURTEEN,PATIENT\",\"04/07/1935\",0,1,0,0,0,1,\"ZZZRETIREDSEVENTYONE,PATIENT\",\"04/07/1935\",0,2,0,0,1,2,\"ZZZRETIREDFOUR,PATIENT\",\"04/07/1935\",0,1,0,0,0,1,\"ZZZRETONETWENTYEIGHT,PATIENT\",\"04/07/1935\",0,1,0,0,0,1,\"ZZZRETIREDFORTYONE,PATIENT\",\"04/07/1935\",0,1,0,0,0,1,\"ZZZRETIREDEIGHTYFOUR,PATIENT\",\"04/07/1935\",0,2,0,0,1,2,\"TWOHUNDREDELEVEN,PATIENT\",\"04/07/1935\",0,1,0,0,0,1,\"ONEHUNDREDEIGHTYNINE,PATIENT\",\"11/23/1985\",0,1,0,0,0,1,\"FIVE,OUTPATIENT\",\"03/09/1945\",0,8,0,0,0,8,\"TEN,INPATIENT\",\"03/09/1945\",0,1,0,0,0,2,\"NINETY,INPATIENT\",\"03/09/1945\",0,1,0,0,0,1,\"TRASH,ELSIE\",\"02/03/2004\",0,7,0,0,0,7,\"TRASH,TONY\",\"03/04/2005\",0,1,0,0,0,1,\"TRASH,PAT A\",\"01/01/1966\",0,4,0,0,0,4,\"TRASH,SCOTT\",\"01/01/1966\",0,2,0,0,0,2,\"TRASH,ZEBRA\",\"10/10/1967\",0,3,1,0,0,4,\"MEDICATIONSIT,PATIENT\",\"01/01/1962\",0,1430,0,12,57,1430]]}"
      ]
     },
     "execution_count": 45,
     "metadata": {},
     "output_type": "execute_result"
    }
   ],
   "source": [
    "    var aclIX = new instance.documentStore.DocumentNode('PS',['52.41','ACL'])\n",
    "\n",
    "    var patients = {};\n",
    "\n",
    "    aclIX.forEachChild( (clinic, node) => \n",
    "        node.forEachChild( (fmdt, node2) =>\n",
    "            node2.forEachChild( (ien, node3) => {\n",
    "                var z = new instance.documentStore.DocumentNode('PS',['52.41',ien,0]).value;\n",
    "                if (!z) return;\n",
    "                if (!['NW','RNW','RF'].includes(z.split('^')[2])) return;  // New, Renew, Refills only. No DCs etc.\n",
    "                if (!z.split('^')[12]) return; // Must have clinic. Redundant check as record won't exist w/o it.\n",
    "                var hospitalLocationIEN = z.split('^')[12];\n",
    "                var dfn = z.split('^')[1];\n",
    "                var name = instance.db.function({function: 'GET1^DIQ', arguments: ['2', dfn, '.01']}).result;\n",
    "                var dob  = instance.db.function({function: 'GET1^DIQ', arguments: ['2', dfn, 'DOB']}).result;\n",
    "                var routeName = instance.db.function({function: 'GET1^DIQ', arguments: ['52.41', ien, 'PICKUP ROUTING']}).result;\n",
    "                var priorityName = instance.db.function({function: 'GET1^DIQ', arguments: ['52.41', ien, 'PRIORITY']}).result;\n",
    "                var flagged = instance.db.function({function: 'GET1^DIQ', arguments: ['52.41', ien, 'FLAG', 'I']}).result;\n",
    "                \n",
    "                // I +$P(OR0,\"^\",9) S PDEA=$P($G(^PSDRUG($P(OR0,\"^\",9),0)),\"^\",3),PDEA=$S(PDEA[2:1,PDEA[3!(PDEA[4)!(PDEA[5):2,1:0)\n",
    "                // E  S PDEA=$$OIDEA^PSSUTLA1($P(OR0,\"^\",8),\"O\")\n",
    "                var drugIEN    = instance.db.function({function: 'GET1^DIQ', arguments: ['52.41', ien, 'DRUG', 'I']}).result;\n",
    "                var oiIEN      = instance.db.function({function: 'GET1^DIQ', arguments: ['52.41', ien, 'PHARMACY ORDERABLE ITEM', 'I']}).result;\n",
    "                var isC2,isC345 = false;\n",
    "                if (drugIEN) {\n",
    "                    var pdea = instance.db.function({function: 'GET1^DIQ', arguments: ['50', drugIEN, 'DEA, SPECIAL HDLG', 'I']}).result;\n",
    "                    if (['2'].some(n => pdea.includes(n))) isC2 = true;\n",
    "                    if (['3','4','5'].some(n => pdea.includes(n))) isC345 = true;\n",
    "                }\n",
    "                else {\n",
    "                    var isCS = instance.db.function({function: 'OIDEA^PSSUTLA1', arguments: [oiIEN, 'O']}).result;\n",
    "                    if (isCS === 1) isC2 = true;\n",
    "                    if (isCS === 2) isC345 = true;\n",
    "                    \n",
    "                }\n",
    "                // Count for each patient: by priority; by flag; by route; by CS (2 and 345)\n",
    "                // Patient -> Check\n",
    "                // Priority -> Check\n",
    "                // Route -> Check\n",
    "                // Flagged -> Check\n",
    "                // CS: -> Check\n",
    "                if (patients[dfn] === undefined) {\n",
    "                    patients[dfn] = {};\n",
    "                    patients[dfn].dob = dob;\n",
    "                    patients[dfn].dfn = dfn;\n",
    "                    patients[dfn].name = name;\n",
    "                    patients[dfn].count = 0;\n",
    "                    patients[dfn].flagged = 0;\n",
    "                    patients[dfn].priority = {};\n",
    "                    patients[dfn].routing = {};\n",
    "                    patients[dfn].c2 = 0;\n",
    "                    patients[dfn].c345 = 0;\n",
    "                }\n",
    "                patients[dfn].count++;\n",
    "                \n",
    "                if (patients[dfn].routing[routeName] === undefined) patients[dfn].routing[routeName] = 0;\n",
    "                patients[dfn].routing[routeName]++;\n",
    "\n",
    "                if (patients[dfn].priority[priorityName] === undefined) patients[dfn].priority[priorityName] = 0;\n",
    "                patients[dfn].priority[priorityName]++;\n",
    "                \n",
    "                if (flagged) patients[dfn].flagged++;\n",
    "                \n",
    "                if (isC2) patients[dfn].c2++;\n",
    "                if (isC345) patients[dfn].c345++;\n",
    "            })\n",
    "        )\n",
    "    );\n",
    "    \n",
    "    var header = [];\n",
    "    header.push('Name (PID)');\n",
    "    header.push('DOB');\n",
    "    header.push('Priority/EMERGENCY')\n",
    "    header.push('Priority/STAT')\n",
    "    header.push('Routing/WINDOW')\n",
    "    header.push('Routing/MAIL')\n",
    "    header.push('Schedule II')\n",
    "    header.push('Schedule III-V')\n",
    "    header.push('TOTAL')\n",
    "\n",
    "    var data = [];\n",
    "    var datum = [];\n",
    "    \n",
    "    Object.keys(patients).forEach(dfn => {\n",
    "        datum.push(patients[dfn].name,\n",
    "                patients[dfn].dob,\n",
    "                patients[dfn].priority.STAT || 0 + patients[dfn].priority.EMERGENCY || 0,\n",
    "                patients[dfn].routing.WINDOW || 0,\n",
    "                patients[dfn].routing.MAIL || 0,\n",
    "                patients[dfn].c2 || 0,\n",
    "                patients[dfn].c345 || 0,\n",
    "                patients[dfn].count)\n",
    "        data.push(datum);\n",
    "    });\n",
    "\n",
    "var finalResult = {header: header, data: data};\n",
    "finalResult"
   ]
  },
  {
   "cell_type": "code",
   "execution_count": 14,
   "metadata": {},
   "outputs": [
    {
     "data": {
      "text/plain": [
       "{\"1\":{\"dfn\":\"1\",\"name\":\"ZZZRETFIVEFIFTYONE,PATIENT\",\"count\":3},\"42\":{\"dfn\":\"42\",\"name\":\"ZZZRETFOURFIFTYFOUR,PATIENT\",\"count\":11},\"52\":{\"dfn\":\"52\",\"name\":\"ZZZRETFIVETHREE,PATIENT\",\"count\":1},\"73\":{\"dfn\":\"73\",\"name\":\"ZZZRETFONINETYFIVE,PATIENT\",\"count\":1},\"123\":{\"dfn\":\"123\",\"name\":\"ZZZRETIREDONE,PATIENT\",\"count\":4},\"164\":{\"dfn\":\"164\",\"name\":\"ZZZRETIREDONENINETEEN,PATIENT\",\"count\":2},\"206\":{\"dfn\":\"206\",\"name\":\"ZZZRETSIXFIFTYNINE,PATIENT\",\"count\":1},\"207\":{\"dfn\":\"207\",\"name\":\"ZZZRETFIVEEIGHTYNINE,PATIENT\",\"count\":1},\"237\":{\"dfn\":\"237\",\"name\":\"ONE,PATIENT\",\"count\":5},\"256\":{\"dfn\":\"256\",\"name\":\"ZZZRETIREDSEVENTYFOUR,PATIENT\",\"count\":1},\"297\":{\"dfn\":\"297\",\"name\":\"ZZZRETIREDEIGHTYTWO,PATIENT\",\"count\":1},\"317\":{\"dfn\":\"317\",\"name\":\"ZZZRETFOURELEVEN,PATIENT\",\"count\":1},\"364\":{\"dfn\":\"364\",\"name\":\"ZZZRETFOURFOURTEEN,PATIENT\",\"count\":1},\"365\":{\"dfn\":\"365\",\"name\":\"ZZZRETIREDSEVENTYONE,PATIENT\",\"count\":2},\"369\":{\"dfn\":\"369\",\"name\":\"ZZZRETIREDFOUR,PATIENT\",\"count\":1},\"410\":{\"dfn\":\"410\",\"name\":\"ZZZRETONETWENTYEIGHT,PATIENT\",\"count\":1},\"703\":{\"dfn\":\"703\",\"name\":\"ZZZRETIREDFORTYONE,PATIENT\",\"count\":1},\"739\":{\"dfn\":\"739\",\"name\":\"ZZZRETIREDEIGHTYFOUR,PATIENT\",\"count\":2},\"100157\":{\"dfn\":\"100157\",\"name\":\"TWOHUNDREDELEVEN,PATIENT\",\"count\":1},\"100289\":{\"dfn\":\"100289\",\"name\":\"ONEHUNDREDEIGHTYNINE,PATIENT\",\"count\":1},\"100612\":{\"dfn\":\"100612\",\"name\":\"FIVE,OUTPATIENT\",\"count\":8},\"100718\":{\"dfn\":\"100718\",\"name\":\"TEN,INPATIENT\",\"count\":2},\"100798\":{\"dfn\":\"100798\",\"name\":\"NINETY,INPATIENT\",\"count\":1},\"100859\":{\"dfn\":\"100859\",\"name\":\"TRASH,ELSIE\",\"count\":7},\"100860\":{\"dfn\":\"100860\",\"name\":\"TRASH,TONY\",\"count\":1},\"100864\":{\"dfn\":\"100864\",\"name\":\"TRASH,PAT A\",\"count\":4},\"100865\":{\"dfn\":\"100865\",\"name\":\"TRASH,SCOTT\",\"count\":2},\"100896\":{\"dfn\":\"100896\",\"name\":\"TRASH,ZEBRA\",\"count\":4},\"100897\":{\"dfn\":\"100897\",\"name\":\"MEDICATIONSIT,PATIENT\",\"count\":1430}}"
      ]
     },
     "execution_count": 14,
     "metadata": {},
     "output_type": "execute_result"
    }
   ],
   "source": [
    "patients"
   ]
  },
  {
   "cell_type": "code",
   "execution_count": null,
   "metadata": {
    "collapsed": true
   },
   "outputs": [],
   "source": []
  }
 ],
 "metadata": {
  "kernelspec": {
   "display_name": "NodeJS",
   "language": "javascript",
   "name": "nodejs"
  },
  "language_info": {
   "codemirror_mode": "javascript",
   "file_extension": ".js",
   "mimetype": "text/javascript",
   "name": "nodejs",
   "pygments_lexer": "javascript",
   "version": "0.10"
  }
 },
 "nbformat": 4,
 "nbformat_minor": 2
}
